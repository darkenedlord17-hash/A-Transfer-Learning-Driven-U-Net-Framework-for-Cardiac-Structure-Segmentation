{
  "cells": [
    {
      "cell_type": "code",
      "execution_count": 1,
      "metadata": {
        "id": "fNJ7fV3izitA"
      },
      "outputs": [
        {
          "name": "stderr",
          "output_type": "stream",
          "text": [
            "c:\\Users\\ShantiChandra\\anaconda3\\envs\\shantichandra_3.11\\Lib\\site-packages\\tqdm\\auto.py:21: TqdmWarning: IProgress not found. Please update jupyter and ipywidgets. See https://ipywidgets.readthedocs.io/en/stable/user_install.html\n",
            "  from .autonotebook import tqdm as notebook_tqdm\n",
            "c:\\Users\\ShantiChandra\\anaconda3\\envs\\shantichandra_3.11\\Lib\\site-packages\\albumentations\\__init__.py:28: UserWarning: A new version of Albumentations is available: '2.0.8' (you have '2.0.6'). Upgrade using: pip install -U albumentations. To disable automatic update checks, set the environment variable NO_ALBUMENTATIONS_UPDATE to 1.\n",
            "  check_for_updates()\n"
          ]
        }
      ],
      "source": [
        "import torch\n",
        "import torch.nn.functional as F\n",
        "import nibabel as nib\n",
        "import numpy as np\n",
        "import os\n",
        "from torch.utils.data import Dataset, DataLoader, random_split\n",
        "import albumentations as A\n",
        "from albumentations.pytorch import ToTensorV2\n",
        "import segmentation_models_pytorch as smp\n",
        "import torch.optim as optim\n",
        "from tqdm import tqdm\n",
        "import matplotlib.pyplot as plt"
      ]
    },
    {
      "cell_type": "code",
      "execution_count": 3,
      "metadata": {
        "colab": {
          "base_uri": "https://localhost:8080/"
        },
        "id": "R1V-3VSDzitL",
        "outputId": "7b6a0d35-0faf-4e5e-8af1-caef5f36a171"
      },
      "outputs": [
        {
          "data": {
            "text/plain": [
              "device(type='cuda')"
            ]
          },
          "execution_count": 3,
          "metadata": {},
          "output_type": "execute_result"
        }
      ],
      "source": [
        "device = torch.device(\"cuda\" if torch.cuda.is_available() else \"cpu\")\n",
        "device"
      ]
    },
    {
      "cell_type": "code",
      "execution_count": 4,
      "metadata": {
        "id": "J7SA8DA9zitT"
      },
      "outputs": [],
      "source": [
        "import os\n",
        "import numpy as np\n",
        "import torch\n",
        "from torch.utils.data import Dataset\n",
        "import nibabel as nib\n",
        "\n",
        "class CAMUSDataset(Dataset):\n",
        "    def __init__(self, img_dir, mask_dir, transform=None):\n",
        "        self.img_dir = img_dir\n",
        "        self.mask_dir = mask_dir\n",
        "        self.transform = transform\n",
        "\n",
        "        # 1) find all image files ending in .nii.gz\n",
        "        image_files = sorted([f for f in os.listdir(img_dir) if f.endswith('.nii.gz')])\n",
        "\n",
        "        # 2) build a list of (img_file, mask_file) pairs\n",
        "        self.samples = []\n",
        "        for img_file in image_files:\n",
        "            # strip off '.nii.gz' and append '_gt.nii.gz' for the mask\n",
        "            base = img_file[:-7]\n",
        "            mask_file = base + '_gt.nii.gz'\n",
        "            mask_path = os.path.join(mask_dir, mask_file)\n",
        "            if not os.path.exists(mask_path):\n",
        "                raise FileNotFoundError(f\"Mask not found for image {img_file}: expected {mask_file}\")\n",
        "            self.samples.append((img_file, mask_file))\n",
        "\n",
        "    def __len__(self):\n",
        "        return len(self.samples)\n",
        "\n",
        "    def __getitem__(self, idx):\n",
        "        img_file, mask_file = self.samples[idx]\n",
        "        img_path = os.path.join(self.img_dir, img_file)\n",
        "        mask_path = os.path.join(self.mask_dir, mask_file)\n",
        "\n",
        "        # load\n",
        "        image = nib.load(img_path).get_fdata()\n",
        "        mask  = nib.load(mask_path).get_fdata()\n",
        "\n",
        "        # ensure channel dims\n",
        "        image = np.expand_dims(image, axis=-1)\n",
        "        if mask.ndim == 2:\n",
        "            mask = np.expand_dims(mask, axis=-1)\n",
        "        mask = mask.astype(np.int64)\n",
        "\n",
        "        # spatial check\n",
        "        if image.shape[:2] != mask.shape[:2]:\n",
        "            raise ValueError(f\"Spatial mismatch: {img_file} {image.shape[:2]} vs {mask_file} {mask.shape[:2]}\")\n",
        "\n",
        "        # apply transforms\n",
        "        if self.transform:\n",
        "            aug = self.transform(image=image, mask=mask)\n",
        "            image, mask = aug[\"image\"], aug[\"mask\"]\n",
        "        else:\n",
        "            image = torch.tensor(image, dtype=torch.float32).permute(2, 0, 1)\n",
        "\n",
        "        # bring mask back to numpy for one‑hot\n",
        "        if isinstance(mask, torch.Tensor):\n",
        "            mask = mask.cpu().numpy()\n",
        "        if mask.ndim == 3 and mask.shape[-1] == 1:\n",
        "            mask = mask.squeeze(-1)\n",
        "\n",
        "        # one‑hot encode into 4 channels (background + 3 classes)\n",
        "        H, W = mask.shape\n",
        "        one_hot = np.zeros((4, H, W), dtype=np.float32)\n",
        "        for c in range(4):\n",
        "            one_hot[c] = (mask == c).astype(np.float32)\n",
        "\n",
        "        mask = torch.tensor(one_hot, dtype=torch.float32)\n",
        "        return image, mask\n"
      ]
    },
    {
      "cell_type": "code",
      "execution_count": 5,
      "metadata": {
        "id": "zAgLcIIYzitV"
      },
      "outputs": [],
      "source": [
        "# -------------------------------------------\n",
        "# Define Transformations with Data Augmentation\n",
        "transform = A.Compose([\n",
        "    A.Resize(256, 256),\n",
        "    A.HorizontalFlip(p=0.5),\n",
        "    A.Rotate(limit=15, p=0.5),\n",
        "    A.Normalize(mean=[0.5], std=[0.5]),\n",
        "    ToTensorV2()\n",
        "]\n",
        ")"
      ]
    },
    {
      "cell_type": "code",
      "execution_count": 17,
      "metadata": {
        "colab": {
          "base_uri": "https://localhost:8080/"
        },
        "id": "CTsv54YYzitb",
        "outputId": "8a6712ac-2808-4735-9bc3-b9209a21e0d8"
      },
      "outputs": [
        {
          "name": "stdout",
          "output_type": "stream",
          "text": [
            "2000\n"
          ]
        }
      ],
      "source": [
        "\n",
        "# -------------------------------------------\n",
        "# Load Dataset and split into Train and Validation sets\n",
        "img_dir = r\"F:\\Preprocessed data\\CAMUS_IMG_GT\\nii_img\"\n",
        "mask_dir = r\"F:\\Preprocessed data\\CAMUS_IMG_GT\\nii_gt\"\n",
        "full_dataset = CAMUSDataset(img_dir=img_dir, mask_dir=mask_dir, transform=transform)\n",
        "dataset_size = len(full_dataset)\n",
        "print(dataset_size)\n",
        "val_size = int(0.2 * dataset_size)\n",
        "train_size = dataset_size - val_size\n",
        "train_dataset, val_dataset = random_split(full_dataset, [train_size, val_size])\n",
        "\n",
        "train_loader = DataLoader(train_dataset, batch_size=4, shuffle=True)\n",
        "val_loader = DataLoader(val_dataset, batch_size=4, shuffle=False)\n"
      ]
    },
    {
      "cell_type": "code",
      "execution_count": null,
      "metadata": {
        "id": "gikJhYq7zitc"
      },
      "outputs": [],
      "source": [
        "\n",
        "# ------------------------------------------\n",
        "model = smp.Unet(\n",
        "    encoder_name=\"densenet121\",\n",
        "    encoder_weights=\"imagenet\",\n",
        "    in_channels=1,\n",
        "    classes=4, \n",
        "    activation=None\n",
        ")\n",
        "model = model.to(device)"
      ]
    },
    {
      "cell_type": "code",
      "execution_count": 19,
      "metadata": {
        "colab": {
          "base_uri": "https://localhost:8080/"
        },
        "id": "R2kpyk5Gzitc",
        "outputId": "44b327de-67bb-41ee-8280-d372a93e3043"
      },
      "outputs": [
        {
          "data": {
            "text/plain": [
              "Unet(\n",
              "  (encoder): DenseNetEncoder(\n",
              "    (features): Sequential(\n",
              "      (conv0): Conv2d(1, 64, kernel_size=(7, 7), stride=(2, 2), padding=(3, 3), bias=False)\n",
              "      (norm0): BatchNorm2d(64, eps=1e-05, momentum=0.1, affine=True, track_running_stats=True)\n",
              "      (relu0): ReLU(inplace=True)\n",
              "      (pool0): MaxPool2d(kernel_size=3, stride=2, padding=1, dilation=1, ceil_mode=False)\n",
              "      (denseblock1): _DenseBlock(\n",
              "        (denselayer1): _DenseLayer(\n",
              "          (norm1): BatchNorm2d(64, eps=1e-05, momentum=0.1, affine=True, track_running_stats=True)\n",
              "          (relu1): ReLU(inplace=True)\n",
              "          (conv1): Conv2d(64, 128, kernel_size=(1, 1), stride=(1, 1), bias=False)\n",
              "          (norm2): BatchNorm2d(128, eps=1e-05, momentum=0.1, affine=True, track_running_stats=True)\n",
              "          (relu2): ReLU(inplace=True)\n",
              "          (conv2): Conv2d(128, 32, kernel_size=(3, 3), stride=(1, 1), padding=(1, 1), bias=False)\n",
              "        )\n",
              "        (denselayer2): _DenseLayer(\n",
              "          (norm1): BatchNorm2d(96, eps=1e-05, momentum=0.1, affine=True, track_running_stats=True)\n",
              "          (relu1): ReLU(inplace=True)\n",
              "          (conv1): Conv2d(96, 128, kernel_size=(1, 1), stride=(1, 1), bias=False)\n",
              "          (norm2): BatchNorm2d(128, eps=1e-05, momentum=0.1, affine=True, track_running_stats=True)\n",
              "          (relu2): ReLU(inplace=True)\n",
              "          (conv2): Conv2d(128, 32, kernel_size=(3, 3), stride=(1, 1), padding=(1, 1), bias=False)\n",
              "        )\n",
              "        (denselayer3): _DenseLayer(\n",
              "          (norm1): BatchNorm2d(128, eps=1e-05, momentum=0.1, affine=True, track_running_stats=True)\n",
              "          (relu1): ReLU(inplace=True)\n",
              "          (conv1): Conv2d(128, 128, kernel_size=(1, 1), stride=(1, 1), bias=False)\n",
              "          (norm2): BatchNorm2d(128, eps=1e-05, momentum=0.1, affine=True, track_running_stats=True)\n",
              "          (relu2): ReLU(inplace=True)\n",
              "          (conv2): Conv2d(128, 32, kernel_size=(3, 3), stride=(1, 1), padding=(1, 1), bias=False)\n",
              "        )\n",
              "        (denselayer4): _DenseLayer(\n",
              "          (norm1): BatchNorm2d(160, eps=1e-05, momentum=0.1, affine=True, track_running_stats=True)\n",
              "          (relu1): ReLU(inplace=True)\n",
              "          (conv1): Conv2d(160, 128, kernel_size=(1, 1), stride=(1, 1), bias=False)\n",
              "          (norm2): BatchNorm2d(128, eps=1e-05, momentum=0.1, affine=True, track_running_stats=True)\n",
              "          (relu2): ReLU(inplace=True)\n",
              "          (conv2): Conv2d(128, 32, kernel_size=(3, 3), stride=(1, 1), padding=(1, 1), bias=False)\n",
              "        )\n",
              "        (denselayer5): _DenseLayer(\n",
              "          (norm1): BatchNorm2d(192, eps=1e-05, momentum=0.1, affine=True, track_running_stats=True)\n",
              "          (relu1): ReLU(inplace=True)\n",
              "          (conv1): Conv2d(192, 128, kernel_size=(1, 1), stride=(1, 1), bias=False)\n",
              "          (norm2): BatchNorm2d(128, eps=1e-05, momentum=0.1, affine=True, track_running_stats=True)\n",
              "          (relu2): ReLU(inplace=True)\n",
              "          (conv2): Conv2d(128, 32, kernel_size=(3, 3), stride=(1, 1), padding=(1, 1), bias=False)\n",
              "        )\n",
              "        (denselayer6): _DenseLayer(\n",
              "          (norm1): BatchNorm2d(224, eps=1e-05, momentum=0.1, affine=True, track_running_stats=True)\n",
              "          (relu1): ReLU(inplace=True)\n",
              "          (conv1): Conv2d(224, 128, kernel_size=(1, 1), stride=(1, 1), bias=False)\n",
              "          (norm2): BatchNorm2d(128, eps=1e-05, momentum=0.1, affine=True, track_running_stats=True)\n",
              "          (relu2): ReLU(inplace=True)\n",
              "          (conv2): Conv2d(128, 32, kernel_size=(3, 3), stride=(1, 1), padding=(1, 1), bias=False)\n",
              "        )\n",
              "      )\n",
              "      (transition1): _Transition(\n",
              "        (norm): BatchNorm2d(256, eps=1e-05, momentum=0.1, affine=True, track_running_stats=True)\n",
              "        (relu): ReLU(inplace=True)\n",
              "        (conv): Conv2d(256, 128, kernel_size=(1, 1), stride=(1, 1), bias=False)\n",
              "        (pool): AvgPool2d(kernel_size=2, stride=2, padding=0)\n",
              "      )\n",
              "      (denseblock2): _DenseBlock(\n",
              "        (denselayer1): _DenseLayer(\n",
              "          (norm1): BatchNorm2d(128, eps=1e-05, momentum=0.1, affine=True, track_running_stats=True)\n",
              "          (relu1): ReLU(inplace=True)\n",
              "          (conv1): Conv2d(128, 128, kernel_size=(1, 1), stride=(1, 1), bias=False)\n",
              "          (norm2): BatchNorm2d(128, eps=1e-05, momentum=0.1, affine=True, track_running_stats=True)\n",
              "          (relu2): ReLU(inplace=True)\n",
              "          (conv2): Conv2d(128, 32, kernel_size=(3, 3), stride=(1, 1), padding=(1, 1), bias=False)\n",
              "        )\n",
              "        (denselayer2): _DenseLayer(\n",
              "          (norm1): BatchNorm2d(160, eps=1e-05, momentum=0.1, affine=True, track_running_stats=True)\n",
              "          (relu1): ReLU(inplace=True)\n",
              "          (conv1): Conv2d(160, 128, kernel_size=(1, 1), stride=(1, 1), bias=False)\n",
              "          (norm2): BatchNorm2d(128, eps=1e-05, momentum=0.1, affine=True, track_running_stats=True)\n",
              "          (relu2): ReLU(inplace=True)\n",
              "          (conv2): Conv2d(128, 32, kernel_size=(3, 3), stride=(1, 1), padding=(1, 1), bias=False)\n",
              "        )\n",
              "        (denselayer3): _DenseLayer(\n",
              "          (norm1): BatchNorm2d(192, eps=1e-05, momentum=0.1, affine=True, track_running_stats=True)\n",
              "          (relu1): ReLU(inplace=True)\n",
              "          (conv1): Conv2d(192, 128, kernel_size=(1, 1), stride=(1, 1), bias=False)\n",
              "          (norm2): BatchNorm2d(128, eps=1e-05, momentum=0.1, affine=True, track_running_stats=True)\n",
              "          (relu2): ReLU(inplace=True)\n",
              "          (conv2): Conv2d(128, 32, kernel_size=(3, 3), stride=(1, 1), padding=(1, 1), bias=False)\n",
              "        )\n",
              "        (denselayer4): _DenseLayer(\n",
              "          (norm1): BatchNorm2d(224, eps=1e-05, momentum=0.1, affine=True, track_running_stats=True)\n",
              "          (relu1): ReLU(inplace=True)\n",
              "          (conv1): Conv2d(224, 128, kernel_size=(1, 1), stride=(1, 1), bias=False)\n",
              "          (norm2): BatchNorm2d(128, eps=1e-05, momentum=0.1, affine=True, track_running_stats=True)\n",
              "          (relu2): ReLU(inplace=True)\n",
              "          (conv2): Conv2d(128, 32, kernel_size=(3, 3), stride=(1, 1), padding=(1, 1), bias=False)\n",
              "        )\n",
              "        (denselayer5): _DenseLayer(\n",
              "          (norm1): BatchNorm2d(256, eps=1e-05, momentum=0.1, affine=True, track_running_stats=True)\n",
              "          (relu1): ReLU(inplace=True)\n",
              "          (conv1): Conv2d(256, 128, kernel_size=(1, 1), stride=(1, 1), bias=False)\n",
              "          (norm2): BatchNorm2d(128, eps=1e-05, momentum=0.1, affine=True, track_running_stats=True)\n",
              "          (relu2): ReLU(inplace=True)\n",
              "          (conv2): Conv2d(128, 32, kernel_size=(3, 3), stride=(1, 1), padding=(1, 1), bias=False)\n",
              "        )\n",
              "        (denselayer6): _DenseLayer(\n",
              "          (norm1): BatchNorm2d(288, eps=1e-05, momentum=0.1, affine=True, track_running_stats=True)\n",
              "          (relu1): ReLU(inplace=True)\n",
              "          (conv1): Conv2d(288, 128, kernel_size=(1, 1), stride=(1, 1), bias=False)\n",
              "          (norm2): BatchNorm2d(128, eps=1e-05, momentum=0.1, affine=True, track_running_stats=True)\n",
              "          (relu2): ReLU(inplace=True)\n",
              "          (conv2): Conv2d(128, 32, kernel_size=(3, 3), stride=(1, 1), padding=(1, 1), bias=False)\n",
              "        )\n",
              "        (denselayer7): _DenseLayer(\n",
              "          (norm1): BatchNorm2d(320, eps=1e-05, momentum=0.1, affine=True, track_running_stats=True)\n",
              "          (relu1): ReLU(inplace=True)\n",
              "          (conv1): Conv2d(320, 128, kernel_size=(1, 1), stride=(1, 1), bias=False)\n",
              "          (norm2): BatchNorm2d(128, eps=1e-05, momentum=0.1, affine=True, track_running_stats=True)\n",
              "          (relu2): ReLU(inplace=True)\n",
              "          (conv2): Conv2d(128, 32, kernel_size=(3, 3), stride=(1, 1), padding=(1, 1), bias=False)\n",
              "        )\n",
              "        (denselayer8): _DenseLayer(\n",
              "          (norm1): BatchNorm2d(352, eps=1e-05, momentum=0.1, affine=True, track_running_stats=True)\n",
              "          (relu1): ReLU(inplace=True)\n",
              "          (conv1): Conv2d(352, 128, kernel_size=(1, 1), stride=(1, 1), bias=False)\n",
              "          (norm2): BatchNorm2d(128, eps=1e-05, momentum=0.1, affine=True, track_running_stats=True)\n",
              "          (relu2): ReLU(inplace=True)\n",
              "          (conv2): Conv2d(128, 32, kernel_size=(3, 3), stride=(1, 1), padding=(1, 1), bias=False)\n",
              "        )\n",
              "        (denselayer9): _DenseLayer(\n",
              "          (norm1): BatchNorm2d(384, eps=1e-05, momentum=0.1, affine=True, track_running_stats=True)\n",
              "          (relu1): ReLU(inplace=True)\n",
              "          (conv1): Conv2d(384, 128, kernel_size=(1, 1), stride=(1, 1), bias=False)\n",
              "          (norm2): BatchNorm2d(128, eps=1e-05, momentum=0.1, affine=True, track_running_stats=True)\n",
              "          (relu2): ReLU(inplace=True)\n",
              "          (conv2): Conv2d(128, 32, kernel_size=(3, 3), stride=(1, 1), padding=(1, 1), bias=False)\n",
              "        )\n",
              "        (denselayer10): _DenseLayer(\n",
              "          (norm1): BatchNorm2d(416, eps=1e-05, momentum=0.1, affine=True, track_running_stats=True)\n",
              "          (relu1): ReLU(inplace=True)\n",
              "          (conv1): Conv2d(416, 128, kernel_size=(1, 1), stride=(1, 1), bias=False)\n",
              "          (norm2): BatchNorm2d(128, eps=1e-05, momentum=0.1, affine=True, track_running_stats=True)\n",
              "          (relu2): ReLU(inplace=True)\n",
              "          (conv2): Conv2d(128, 32, kernel_size=(3, 3), stride=(1, 1), padding=(1, 1), bias=False)\n",
              "        )\n",
              "        (denselayer11): _DenseLayer(\n",
              "          (norm1): BatchNorm2d(448, eps=1e-05, momentum=0.1, affine=True, track_running_stats=True)\n",
              "          (relu1): ReLU(inplace=True)\n",
              "          (conv1): Conv2d(448, 128, kernel_size=(1, 1), stride=(1, 1), bias=False)\n",
              "          (norm2): BatchNorm2d(128, eps=1e-05, momentum=0.1, affine=True, track_running_stats=True)\n",
              "          (relu2): ReLU(inplace=True)\n",
              "          (conv2): Conv2d(128, 32, kernel_size=(3, 3), stride=(1, 1), padding=(1, 1), bias=False)\n",
              "        )\n",
              "        (denselayer12): _DenseLayer(\n",
              "          (norm1): BatchNorm2d(480, eps=1e-05, momentum=0.1, affine=True, track_running_stats=True)\n",
              "          (relu1): ReLU(inplace=True)\n",
              "          (conv1): Conv2d(480, 128, kernel_size=(1, 1), stride=(1, 1), bias=False)\n",
              "          (norm2): BatchNorm2d(128, eps=1e-05, momentum=0.1, affine=True, track_running_stats=True)\n",
              "          (relu2): ReLU(inplace=True)\n",
              "          (conv2): Conv2d(128, 32, kernel_size=(3, 3), stride=(1, 1), padding=(1, 1), bias=False)\n",
              "        )\n",
              "      )\n",
              "      (transition2): _Transition(\n",
              "        (norm): BatchNorm2d(512, eps=1e-05, momentum=0.1, affine=True, track_running_stats=True)\n",
              "        (relu): ReLU(inplace=True)\n",
              "        (conv): Conv2d(512, 256, kernel_size=(1, 1), stride=(1, 1), bias=False)\n",
              "        (pool): AvgPool2d(kernel_size=2, stride=2, padding=0)\n",
              "      )\n",
              "      (denseblock3): _DenseBlock(\n",
              "        (denselayer1): _DenseLayer(\n",
              "          (norm1): BatchNorm2d(256, eps=1e-05, momentum=0.1, affine=True, track_running_stats=True)\n",
              "          (relu1): ReLU(inplace=True)\n",
              "          (conv1): Conv2d(256, 128, kernel_size=(1, 1), stride=(1, 1), bias=False)\n",
              "          (norm2): BatchNorm2d(128, eps=1e-05, momentum=0.1, affine=True, track_running_stats=True)\n",
              "          (relu2): ReLU(inplace=True)\n",
              "          (conv2): Conv2d(128, 32, kernel_size=(3, 3), stride=(1, 1), padding=(1, 1), bias=False)\n",
              "        )\n",
              "        (denselayer2): _DenseLayer(\n",
              "          (norm1): BatchNorm2d(288, eps=1e-05, momentum=0.1, affine=True, track_running_stats=True)\n",
              "          (relu1): ReLU(inplace=True)\n",
              "          (conv1): Conv2d(288, 128, kernel_size=(1, 1), stride=(1, 1), bias=False)\n",
              "          (norm2): BatchNorm2d(128, eps=1e-05, momentum=0.1, affine=True, track_running_stats=True)\n",
              "          (relu2): ReLU(inplace=True)\n",
              "          (conv2): Conv2d(128, 32, kernel_size=(3, 3), stride=(1, 1), padding=(1, 1), bias=False)\n",
              "        )\n",
              "        (denselayer3): _DenseLayer(\n",
              "          (norm1): BatchNorm2d(320, eps=1e-05, momentum=0.1, affine=True, track_running_stats=True)\n",
              "          (relu1): ReLU(inplace=True)\n",
              "          (conv1): Conv2d(320, 128, kernel_size=(1, 1), stride=(1, 1), bias=False)\n",
              "          (norm2): BatchNorm2d(128, eps=1e-05, momentum=0.1, affine=True, track_running_stats=True)\n",
              "          (relu2): ReLU(inplace=True)\n",
              "          (conv2): Conv2d(128, 32, kernel_size=(3, 3), stride=(1, 1), padding=(1, 1), bias=False)\n",
              "        )\n",
              "        (denselayer4): _DenseLayer(\n",
              "          (norm1): BatchNorm2d(352, eps=1e-05, momentum=0.1, affine=True, track_running_stats=True)\n",
              "          (relu1): ReLU(inplace=True)\n",
              "          (conv1): Conv2d(352, 128, kernel_size=(1, 1), stride=(1, 1), bias=False)\n",
              "          (norm2): BatchNorm2d(128, eps=1e-05, momentum=0.1, affine=True, track_running_stats=True)\n",
              "          (relu2): ReLU(inplace=True)\n",
              "          (conv2): Conv2d(128, 32, kernel_size=(3, 3), stride=(1, 1), padding=(1, 1), bias=False)\n",
              "        )\n",
              "        (denselayer5): _DenseLayer(\n",
              "          (norm1): BatchNorm2d(384, eps=1e-05, momentum=0.1, affine=True, track_running_stats=True)\n",
              "          (relu1): ReLU(inplace=True)\n",
              "          (conv1): Conv2d(384, 128, kernel_size=(1, 1), stride=(1, 1), bias=False)\n",
              "          (norm2): BatchNorm2d(128, eps=1e-05, momentum=0.1, affine=True, track_running_stats=True)\n",
              "          (relu2): ReLU(inplace=True)\n",
              "          (conv2): Conv2d(128, 32, kernel_size=(3, 3), stride=(1, 1), padding=(1, 1), bias=False)\n",
              "        )\n",
              "        (denselayer6): _DenseLayer(\n",
              "          (norm1): BatchNorm2d(416, eps=1e-05, momentum=0.1, affine=True, track_running_stats=True)\n",
              "          (relu1): ReLU(inplace=True)\n",
              "          (conv1): Conv2d(416, 128, kernel_size=(1, 1), stride=(1, 1), bias=False)\n",
              "          (norm2): BatchNorm2d(128, eps=1e-05, momentum=0.1, affine=True, track_running_stats=True)\n",
              "          (relu2): ReLU(inplace=True)\n",
              "          (conv2): Conv2d(128, 32, kernel_size=(3, 3), stride=(1, 1), padding=(1, 1), bias=False)\n",
              "        )\n",
              "        (denselayer7): _DenseLayer(\n",
              "          (norm1): BatchNorm2d(448, eps=1e-05, momentum=0.1, affine=True, track_running_stats=True)\n",
              "          (relu1): ReLU(inplace=True)\n",
              "          (conv1): Conv2d(448, 128, kernel_size=(1, 1), stride=(1, 1), bias=False)\n",
              "          (norm2): BatchNorm2d(128, eps=1e-05, momentum=0.1, affine=True, track_running_stats=True)\n",
              "          (relu2): ReLU(inplace=True)\n",
              "          (conv2): Conv2d(128, 32, kernel_size=(3, 3), stride=(1, 1), padding=(1, 1), bias=False)\n",
              "        )\n",
              "        (denselayer8): _DenseLayer(\n",
              "          (norm1): BatchNorm2d(480, eps=1e-05, momentum=0.1, affine=True, track_running_stats=True)\n",
              "          (relu1): ReLU(inplace=True)\n",
              "          (conv1): Conv2d(480, 128, kernel_size=(1, 1), stride=(1, 1), bias=False)\n",
              "          (norm2): BatchNorm2d(128, eps=1e-05, momentum=0.1, affine=True, track_running_stats=True)\n",
              "          (relu2): ReLU(inplace=True)\n",
              "          (conv2): Conv2d(128, 32, kernel_size=(3, 3), stride=(1, 1), padding=(1, 1), bias=False)\n",
              "        )\n",
              "        (denselayer9): _DenseLayer(\n",
              "          (norm1): BatchNorm2d(512, eps=1e-05, momentum=0.1, affine=True, track_running_stats=True)\n",
              "          (relu1): ReLU(inplace=True)\n",
              "          (conv1): Conv2d(512, 128, kernel_size=(1, 1), stride=(1, 1), bias=False)\n",
              "          (norm2): BatchNorm2d(128, eps=1e-05, momentum=0.1, affine=True, track_running_stats=True)\n",
              "          (relu2): ReLU(inplace=True)\n",
              "          (conv2): Conv2d(128, 32, kernel_size=(3, 3), stride=(1, 1), padding=(1, 1), bias=False)\n",
              "        )\n",
              "        (denselayer10): _DenseLayer(\n",
              "          (norm1): BatchNorm2d(544, eps=1e-05, momentum=0.1, affine=True, track_running_stats=True)\n",
              "          (relu1): ReLU(inplace=True)\n",
              "          (conv1): Conv2d(544, 128, kernel_size=(1, 1), stride=(1, 1), bias=False)\n",
              "          (norm2): BatchNorm2d(128, eps=1e-05, momentum=0.1, affine=True, track_running_stats=True)\n",
              "          (relu2): ReLU(inplace=True)\n",
              "          (conv2): Conv2d(128, 32, kernel_size=(3, 3), stride=(1, 1), padding=(1, 1), bias=False)\n",
              "        )\n",
              "        (denselayer11): _DenseLayer(\n",
              "          (norm1): BatchNorm2d(576, eps=1e-05, momentum=0.1, affine=True, track_running_stats=True)\n",
              "          (relu1): ReLU(inplace=True)\n",
              "          (conv1): Conv2d(576, 128, kernel_size=(1, 1), stride=(1, 1), bias=False)\n",
              "          (norm2): BatchNorm2d(128, eps=1e-05, momentum=0.1, affine=True, track_running_stats=True)\n",
              "          (relu2): ReLU(inplace=True)\n",
              "          (conv2): Conv2d(128, 32, kernel_size=(3, 3), stride=(1, 1), padding=(1, 1), bias=False)\n",
              "        )\n",
              "        (denselayer12): _DenseLayer(\n",
              "          (norm1): BatchNorm2d(608, eps=1e-05, momentum=0.1, affine=True, track_running_stats=True)\n",
              "          (relu1): ReLU(inplace=True)\n",
              "          (conv1): Conv2d(608, 128, kernel_size=(1, 1), stride=(1, 1), bias=False)\n",
              "          (norm2): BatchNorm2d(128, eps=1e-05, momentum=0.1, affine=True, track_running_stats=True)\n",
              "          (relu2): ReLU(inplace=True)\n",
              "          (conv2): Conv2d(128, 32, kernel_size=(3, 3), stride=(1, 1), padding=(1, 1), bias=False)\n",
              "        )\n",
              "        (denselayer13): _DenseLayer(\n",
              "          (norm1): BatchNorm2d(640, eps=1e-05, momentum=0.1, affine=True, track_running_stats=True)\n",
              "          (relu1): ReLU(inplace=True)\n",
              "          (conv1): Conv2d(640, 128, kernel_size=(1, 1), stride=(1, 1), bias=False)\n",
              "          (norm2): BatchNorm2d(128, eps=1e-05, momentum=0.1, affine=True, track_running_stats=True)\n",
              "          (relu2): ReLU(inplace=True)\n",
              "          (conv2): Conv2d(128, 32, kernel_size=(3, 3), stride=(1, 1), padding=(1, 1), bias=False)\n",
              "        )\n",
              "        (denselayer14): _DenseLayer(\n",
              "          (norm1): BatchNorm2d(672, eps=1e-05, momentum=0.1, affine=True, track_running_stats=True)\n",
              "          (relu1): ReLU(inplace=True)\n",
              "          (conv1): Conv2d(672, 128, kernel_size=(1, 1), stride=(1, 1), bias=False)\n",
              "          (norm2): BatchNorm2d(128, eps=1e-05, momentum=0.1, affine=True, track_running_stats=True)\n",
              "          (relu2): ReLU(inplace=True)\n",
              "          (conv2): Conv2d(128, 32, kernel_size=(3, 3), stride=(1, 1), padding=(1, 1), bias=False)\n",
              "        )\n",
              "        (denselayer15): _DenseLayer(\n",
              "          (norm1): BatchNorm2d(704, eps=1e-05, momentum=0.1, affine=True, track_running_stats=True)\n",
              "          (relu1): ReLU(inplace=True)\n",
              "          (conv1): Conv2d(704, 128, kernel_size=(1, 1), stride=(1, 1), bias=False)\n",
              "          (norm2): BatchNorm2d(128, eps=1e-05, momentum=0.1, affine=True, track_running_stats=True)\n",
              "          (relu2): ReLU(inplace=True)\n",
              "          (conv2): Conv2d(128, 32, kernel_size=(3, 3), stride=(1, 1), padding=(1, 1), bias=False)\n",
              "        )\n",
              "        (denselayer16): _DenseLayer(\n",
              "          (norm1): BatchNorm2d(736, eps=1e-05, momentum=0.1, affine=True, track_running_stats=True)\n",
              "          (relu1): ReLU(inplace=True)\n",
              "          (conv1): Conv2d(736, 128, kernel_size=(1, 1), stride=(1, 1), bias=False)\n",
              "          (norm2): BatchNorm2d(128, eps=1e-05, momentum=0.1, affine=True, track_running_stats=True)\n",
              "          (relu2): ReLU(inplace=True)\n",
              "          (conv2): Conv2d(128, 32, kernel_size=(3, 3), stride=(1, 1), padding=(1, 1), bias=False)\n",
              "        )\n",
              "        (denselayer17): _DenseLayer(\n",
              "          (norm1): BatchNorm2d(768, eps=1e-05, momentum=0.1, affine=True, track_running_stats=True)\n",
              "          (relu1): ReLU(inplace=True)\n",
              "          (conv1): Conv2d(768, 128, kernel_size=(1, 1), stride=(1, 1), bias=False)\n",
              "          (norm2): BatchNorm2d(128, eps=1e-05, momentum=0.1, affine=True, track_running_stats=True)\n",
              "          (relu2): ReLU(inplace=True)\n",
              "          (conv2): Conv2d(128, 32, kernel_size=(3, 3), stride=(1, 1), padding=(1, 1), bias=False)\n",
              "        )\n",
              "        (denselayer18): _DenseLayer(\n",
              "          (norm1): BatchNorm2d(800, eps=1e-05, momentum=0.1, affine=True, track_running_stats=True)\n",
              "          (relu1): ReLU(inplace=True)\n",
              "          (conv1): Conv2d(800, 128, kernel_size=(1, 1), stride=(1, 1), bias=False)\n",
              "          (norm2): BatchNorm2d(128, eps=1e-05, momentum=0.1, affine=True, track_running_stats=True)\n",
              "          (relu2): ReLU(inplace=True)\n",
              "          (conv2): Conv2d(128, 32, kernel_size=(3, 3), stride=(1, 1), padding=(1, 1), bias=False)\n",
              "        )\n",
              "        (denselayer19): _DenseLayer(\n",
              "          (norm1): BatchNorm2d(832, eps=1e-05, momentum=0.1, affine=True, track_running_stats=True)\n",
              "          (relu1): ReLU(inplace=True)\n",
              "          (conv1): Conv2d(832, 128, kernel_size=(1, 1), stride=(1, 1), bias=False)\n",
              "          (norm2): BatchNorm2d(128, eps=1e-05, momentum=0.1, affine=True, track_running_stats=True)\n",
              "          (relu2): ReLU(inplace=True)\n",
              "          (conv2): Conv2d(128, 32, kernel_size=(3, 3), stride=(1, 1), padding=(1, 1), bias=False)\n",
              "        )\n",
              "        (denselayer20): _DenseLayer(\n",
              "          (norm1): BatchNorm2d(864, eps=1e-05, momentum=0.1, affine=True, track_running_stats=True)\n",
              "          (relu1): ReLU(inplace=True)\n",
              "          (conv1): Conv2d(864, 128, kernel_size=(1, 1), stride=(1, 1), bias=False)\n",
              "          (norm2): BatchNorm2d(128, eps=1e-05, momentum=0.1, affine=True, track_running_stats=True)\n",
              "          (relu2): ReLU(inplace=True)\n",
              "          (conv2): Conv2d(128, 32, kernel_size=(3, 3), stride=(1, 1), padding=(1, 1), bias=False)\n",
              "        )\n",
              "        (denselayer21): _DenseLayer(\n",
              "          (norm1): BatchNorm2d(896, eps=1e-05, momentum=0.1, affine=True, track_running_stats=True)\n",
              "          (relu1): ReLU(inplace=True)\n",
              "          (conv1): Conv2d(896, 128, kernel_size=(1, 1), stride=(1, 1), bias=False)\n",
              "          (norm2): BatchNorm2d(128, eps=1e-05, momentum=0.1, affine=True, track_running_stats=True)\n",
              "          (relu2): ReLU(inplace=True)\n",
              "          (conv2): Conv2d(128, 32, kernel_size=(3, 3), stride=(1, 1), padding=(1, 1), bias=False)\n",
              "        )\n",
              "        (denselayer22): _DenseLayer(\n",
              "          (norm1): BatchNorm2d(928, eps=1e-05, momentum=0.1, affine=True, track_running_stats=True)\n",
              "          (relu1): ReLU(inplace=True)\n",
              "          (conv1): Conv2d(928, 128, kernel_size=(1, 1), stride=(1, 1), bias=False)\n",
              "          (norm2): BatchNorm2d(128, eps=1e-05, momentum=0.1, affine=True, track_running_stats=True)\n",
              "          (relu2): ReLU(inplace=True)\n",
              "          (conv2): Conv2d(128, 32, kernel_size=(3, 3), stride=(1, 1), padding=(1, 1), bias=False)\n",
              "        )\n",
              "        (denselayer23): _DenseLayer(\n",
              "          (norm1): BatchNorm2d(960, eps=1e-05, momentum=0.1, affine=True, track_running_stats=True)\n",
              "          (relu1): ReLU(inplace=True)\n",
              "          (conv1): Conv2d(960, 128, kernel_size=(1, 1), stride=(1, 1), bias=False)\n",
              "          (norm2): BatchNorm2d(128, eps=1e-05, momentum=0.1, affine=True, track_running_stats=True)\n",
              "          (relu2): ReLU(inplace=True)\n",
              "          (conv2): Conv2d(128, 32, kernel_size=(3, 3), stride=(1, 1), padding=(1, 1), bias=False)\n",
              "        )\n",
              "        (denselayer24): _DenseLayer(\n",
              "          (norm1): BatchNorm2d(992, eps=1e-05, momentum=0.1, affine=True, track_running_stats=True)\n",
              "          (relu1): ReLU(inplace=True)\n",
              "          (conv1): Conv2d(992, 128, kernel_size=(1, 1), stride=(1, 1), bias=False)\n",
              "          (norm2): BatchNorm2d(128, eps=1e-05, momentum=0.1, affine=True, track_running_stats=True)\n",
              "          (relu2): ReLU(inplace=True)\n",
              "          (conv2): Conv2d(128, 32, kernel_size=(3, 3), stride=(1, 1), padding=(1, 1), bias=False)\n",
              "        )\n",
              "      )\n",
              "      (transition3): _Transition(\n",
              "        (norm): BatchNorm2d(1024, eps=1e-05, momentum=0.1, affine=True, track_running_stats=True)\n",
              "        (relu): ReLU(inplace=True)\n",
              "        (conv): Conv2d(1024, 512, kernel_size=(1, 1), stride=(1, 1), bias=False)\n",
              "        (pool): AvgPool2d(kernel_size=2, stride=2, padding=0)\n",
              "      )\n",
              "      (denseblock4): _DenseBlock(\n",
              "        (denselayer1): _DenseLayer(\n",
              "          (norm1): BatchNorm2d(512, eps=1e-05, momentum=0.1, affine=True, track_running_stats=True)\n",
              "          (relu1): ReLU(inplace=True)\n",
              "          (conv1): Conv2d(512, 128, kernel_size=(1, 1), stride=(1, 1), bias=False)\n",
              "          (norm2): BatchNorm2d(128, eps=1e-05, momentum=0.1, affine=True, track_running_stats=True)\n",
              "          (relu2): ReLU(inplace=True)\n",
              "          (conv2): Conv2d(128, 32, kernel_size=(3, 3), stride=(1, 1), padding=(1, 1), bias=False)\n",
              "        )\n",
              "        (denselayer2): _DenseLayer(\n",
              "          (norm1): BatchNorm2d(544, eps=1e-05, momentum=0.1, affine=True, track_running_stats=True)\n",
              "          (relu1): ReLU(inplace=True)\n",
              "          (conv1): Conv2d(544, 128, kernel_size=(1, 1), stride=(1, 1), bias=False)\n",
              "          (norm2): BatchNorm2d(128, eps=1e-05, momentum=0.1, affine=True, track_running_stats=True)\n",
              "          (relu2): ReLU(inplace=True)\n",
              "          (conv2): Conv2d(128, 32, kernel_size=(3, 3), stride=(1, 1), padding=(1, 1), bias=False)\n",
              "        )\n",
              "        (denselayer3): _DenseLayer(\n",
              "          (norm1): BatchNorm2d(576, eps=1e-05, momentum=0.1, affine=True, track_running_stats=True)\n",
              "          (relu1): ReLU(inplace=True)\n",
              "          (conv1): Conv2d(576, 128, kernel_size=(1, 1), stride=(1, 1), bias=False)\n",
              "          (norm2): BatchNorm2d(128, eps=1e-05, momentum=0.1, affine=True, track_running_stats=True)\n",
              "          (relu2): ReLU(inplace=True)\n",
              "          (conv2): Conv2d(128, 32, kernel_size=(3, 3), stride=(1, 1), padding=(1, 1), bias=False)\n",
              "        )\n",
              "        (denselayer4): _DenseLayer(\n",
              "          (norm1): BatchNorm2d(608, eps=1e-05, momentum=0.1, affine=True, track_running_stats=True)\n",
              "          (relu1): ReLU(inplace=True)\n",
              "          (conv1): Conv2d(608, 128, kernel_size=(1, 1), stride=(1, 1), bias=False)\n",
              "          (norm2): BatchNorm2d(128, eps=1e-05, momentum=0.1, affine=True, track_running_stats=True)\n",
              "          (relu2): ReLU(inplace=True)\n",
              "          (conv2): Conv2d(128, 32, kernel_size=(3, 3), stride=(1, 1), padding=(1, 1), bias=False)\n",
              "        )\n",
              "        (denselayer5): _DenseLayer(\n",
              "          (norm1): BatchNorm2d(640, eps=1e-05, momentum=0.1, affine=True, track_running_stats=True)\n",
              "          (relu1): ReLU(inplace=True)\n",
              "          (conv1): Conv2d(640, 128, kernel_size=(1, 1), stride=(1, 1), bias=False)\n",
              "          (norm2): BatchNorm2d(128, eps=1e-05, momentum=0.1, affine=True, track_running_stats=True)\n",
              "          (relu2): ReLU(inplace=True)\n",
              "          (conv2): Conv2d(128, 32, kernel_size=(3, 3), stride=(1, 1), padding=(1, 1), bias=False)\n",
              "        )\n",
              "        (denselayer6): _DenseLayer(\n",
              "          (norm1): BatchNorm2d(672, eps=1e-05, momentum=0.1, affine=True, track_running_stats=True)\n",
              "          (relu1): ReLU(inplace=True)\n",
              "          (conv1): Conv2d(672, 128, kernel_size=(1, 1), stride=(1, 1), bias=False)\n",
              "          (norm2): BatchNorm2d(128, eps=1e-05, momentum=0.1, affine=True, track_running_stats=True)\n",
              "          (relu2): ReLU(inplace=True)\n",
              "          (conv2): Conv2d(128, 32, kernel_size=(3, 3), stride=(1, 1), padding=(1, 1), bias=False)\n",
              "        )\n",
              "        (denselayer7): _DenseLayer(\n",
              "          (norm1): BatchNorm2d(704, eps=1e-05, momentum=0.1, affine=True, track_running_stats=True)\n",
              "          (relu1): ReLU(inplace=True)\n",
              "          (conv1): Conv2d(704, 128, kernel_size=(1, 1), stride=(1, 1), bias=False)\n",
              "          (norm2): BatchNorm2d(128, eps=1e-05, momentum=0.1, affine=True, track_running_stats=True)\n",
              "          (relu2): ReLU(inplace=True)\n",
              "          (conv2): Conv2d(128, 32, kernel_size=(3, 3), stride=(1, 1), padding=(1, 1), bias=False)\n",
              "        )\n",
              "        (denselayer8): _DenseLayer(\n",
              "          (norm1): BatchNorm2d(736, eps=1e-05, momentum=0.1, affine=True, track_running_stats=True)\n",
              "          (relu1): ReLU(inplace=True)\n",
              "          (conv1): Conv2d(736, 128, kernel_size=(1, 1), stride=(1, 1), bias=False)\n",
              "          (norm2): BatchNorm2d(128, eps=1e-05, momentum=0.1, affine=True, track_running_stats=True)\n",
              "          (relu2): ReLU(inplace=True)\n",
              "          (conv2): Conv2d(128, 32, kernel_size=(3, 3), stride=(1, 1), padding=(1, 1), bias=False)\n",
              "        )\n",
              "        (denselayer9): _DenseLayer(\n",
              "          (norm1): BatchNorm2d(768, eps=1e-05, momentum=0.1, affine=True, track_running_stats=True)\n",
              "          (relu1): ReLU(inplace=True)\n",
              "          (conv1): Conv2d(768, 128, kernel_size=(1, 1), stride=(1, 1), bias=False)\n",
              "          (norm2): BatchNorm2d(128, eps=1e-05, momentum=0.1, affine=True, track_running_stats=True)\n",
              "          (relu2): ReLU(inplace=True)\n",
              "          (conv2): Conv2d(128, 32, kernel_size=(3, 3), stride=(1, 1), padding=(1, 1), bias=False)\n",
              "        )\n",
              "        (denselayer10): _DenseLayer(\n",
              "          (norm1): BatchNorm2d(800, eps=1e-05, momentum=0.1, affine=True, track_running_stats=True)\n",
              "          (relu1): ReLU(inplace=True)\n",
              "          (conv1): Conv2d(800, 128, kernel_size=(1, 1), stride=(1, 1), bias=False)\n",
              "          (norm2): BatchNorm2d(128, eps=1e-05, momentum=0.1, affine=True, track_running_stats=True)\n",
              "          (relu2): ReLU(inplace=True)\n",
              "          (conv2): Conv2d(128, 32, kernel_size=(3, 3), stride=(1, 1), padding=(1, 1), bias=False)\n",
              "        )\n",
              "        (denselayer11): _DenseLayer(\n",
              "          (norm1): BatchNorm2d(832, eps=1e-05, momentum=0.1, affine=True, track_running_stats=True)\n",
              "          (relu1): ReLU(inplace=True)\n",
              "          (conv1): Conv2d(832, 128, kernel_size=(1, 1), stride=(1, 1), bias=False)\n",
              "          (norm2): BatchNorm2d(128, eps=1e-05, momentum=0.1, affine=True, track_running_stats=True)\n",
              "          (relu2): ReLU(inplace=True)\n",
              "          (conv2): Conv2d(128, 32, kernel_size=(3, 3), stride=(1, 1), padding=(1, 1), bias=False)\n",
              "        )\n",
              "        (denselayer12): _DenseLayer(\n",
              "          (norm1): BatchNorm2d(864, eps=1e-05, momentum=0.1, affine=True, track_running_stats=True)\n",
              "          (relu1): ReLU(inplace=True)\n",
              "          (conv1): Conv2d(864, 128, kernel_size=(1, 1), stride=(1, 1), bias=False)\n",
              "          (norm2): BatchNorm2d(128, eps=1e-05, momentum=0.1, affine=True, track_running_stats=True)\n",
              "          (relu2): ReLU(inplace=True)\n",
              "          (conv2): Conv2d(128, 32, kernel_size=(3, 3), stride=(1, 1), padding=(1, 1), bias=False)\n",
              "        )\n",
              "        (denselayer13): _DenseLayer(\n",
              "          (norm1): BatchNorm2d(896, eps=1e-05, momentum=0.1, affine=True, track_running_stats=True)\n",
              "          (relu1): ReLU(inplace=True)\n",
              "          (conv1): Conv2d(896, 128, kernel_size=(1, 1), stride=(1, 1), bias=False)\n",
              "          (norm2): BatchNorm2d(128, eps=1e-05, momentum=0.1, affine=True, track_running_stats=True)\n",
              "          (relu2): ReLU(inplace=True)\n",
              "          (conv2): Conv2d(128, 32, kernel_size=(3, 3), stride=(1, 1), padding=(1, 1), bias=False)\n",
              "        )\n",
              "        (denselayer14): _DenseLayer(\n",
              "          (norm1): BatchNorm2d(928, eps=1e-05, momentum=0.1, affine=True, track_running_stats=True)\n",
              "          (relu1): ReLU(inplace=True)\n",
              "          (conv1): Conv2d(928, 128, kernel_size=(1, 1), stride=(1, 1), bias=False)\n",
              "          (norm2): BatchNorm2d(128, eps=1e-05, momentum=0.1, affine=True, track_running_stats=True)\n",
              "          (relu2): ReLU(inplace=True)\n",
              "          (conv2): Conv2d(128, 32, kernel_size=(3, 3), stride=(1, 1), padding=(1, 1), bias=False)\n",
              "        )\n",
              "        (denselayer15): _DenseLayer(\n",
              "          (norm1): BatchNorm2d(960, eps=1e-05, momentum=0.1, affine=True, track_running_stats=True)\n",
              "          (relu1): ReLU(inplace=True)\n",
              "          (conv1): Conv2d(960, 128, kernel_size=(1, 1), stride=(1, 1), bias=False)\n",
              "          (norm2): BatchNorm2d(128, eps=1e-05, momentum=0.1, affine=True, track_running_stats=True)\n",
              "          (relu2): ReLU(inplace=True)\n",
              "          (conv2): Conv2d(128, 32, kernel_size=(3, 3), stride=(1, 1), padding=(1, 1), bias=False)\n",
              "        )\n",
              "        (denselayer16): _DenseLayer(\n",
              "          (norm1): BatchNorm2d(992, eps=1e-05, momentum=0.1, affine=True, track_running_stats=True)\n",
              "          (relu1): ReLU(inplace=True)\n",
              "          (conv1): Conv2d(992, 128, kernel_size=(1, 1), stride=(1, 1), bias=False)\n",
              "          (norm2): BatchNorm2d(128, eps=1e-05, momentum=0.1, affine=True, track_running_stats=True)\n",
              "          (relu2): ReLU(inplace=True)\n",
              "          (conv2): Conv2d(128, 32, kernel_size=(3, 3), stride=(1, 1), padding=(1, 1), bias=False)\n",
              "        )\n",
              "      )\n",
              "      (norm5): BatchNorm2d(1024, eps=1e-05, momentum=0.1, affine=True, track_running_stats=True)\n",
              "    )\n",
              "  )\n",
              "  (decoder): UnetDecoder(\n",
              "    (center): Identity()\n",
              "    (blocks): ModuleList(\n",
              "      (0): UnetDecoderBlock(\n",
              "        (conv1): Conv2dReLU(\n",
              "          (0): Conv2d(2048, 256, kernel_size=(3, 3), stride=(1, 1), padding=(1, 1), bias=False)\n",
              "          (1): BatchNorm2d(256, eps=1e-05, momentum=0.1, affine=True, track_running_stats=True)\n",
              "          (2): ReLU(inplace=True)\n",
              "        )\n",
              "        (attention1): Attention(\n",
              "          (attention): Identity()\n",
              "        )\n",
              "        (conv2): Conv2dReLU(\n",
              "          (0): Conv2d(256, 256, kernel_size=(3, 3), stride=(1, 1), padding=(1, 1), bias=False)\n",
              "          (1): BatchNorm2d(256, eps=1e-05, momentum=0.1, affine=True, track_running_stats=True)\n",
              "          (2): ReLU(inplace=True)\n",
              "        )\n",
              "        (attention2): Attention(\n",
              "          (attention): Identity()\n",
              "        )\n",
              "      )\n",
              "      (1): UnetDecoderBlock(\n",
              "        (conv1): Conv2dReLU(\n",
              "          (0): Conv2d(768, 128, kernel_size=(3, 3), stride=(1, 1), padding=(1, 1), bias=False)\n",
              "          (1): BatchNorm2d(128, eps=1e-05, momentum=0.1, affine=True, track_running_stats=True)\n",
              "          (2): ReLU(inplace=True)\n",
              "        )\n",
              "        (attention1): Attention(\n",
              "          (attention): Identity()\n",
              "        )\n",
              "        (conv2): Conv2dReLU(\n",
              "          (0): Conv2d(128, 128, kernel_size=(3, 3), stride=(1, 1), padding=(1, 1), bias=False)\n",
              "          (1): BatchNorm2d(128, eps=1e-05, momentum=0.1, affine=True, track_running_stats=True)\n",
              "          (2): ReLU(inplace=True)\n",
              "        )\n",
              "        (attention2): Attention(\n",
              "          (attention): Identity()\n",
              "        )\n",
              "      )\n",
              "      (2): UnetDecoderBlock(\n",
              "        (conv1): Conv2dReLU(\n",
              "          (0): Conv2d(384, 64, kernel_size=(3, 3), stride=(1, 1), padding=(1, 1), bias=False)\n",
              "          (1): BatchNorm2d(64, eps=1e-05, momentum=0.1, affine=True, track_running_stats=True)\n",
              "          (2): ReLU(inplace=True)\n",
              "        )\n",
              "        (attention1): Attention(\n",
              "          (attention): Identity()\n",
              "        )\n",
              "        (conv2): Conv2dReLU(\n",
              "          (0): Conv2d(64, 64, kernel_size=(3, 3), stride=(1, 1), padding=(1, 1), bias=False)\n",
              "          (1): BatchNorm2d(64, eps=1e-05, momentum=0.1, affine=True, track_running_stats=True)\n",
              "          (2): ReLU(inplace=True)\n",
              "        )\n",
              "        (attention2): Attention(\n",
              "          (attention): Identity()\n",
              "        )\n",
              "      )\n",
              "      (3): UnetDecoderBlock(\n",
              "        (conv1): Conv2dReLU(\n",
              "          (0): Conv2d(128, 32, kernel_size=(3, 3), stride=(1, 1), padding=(1, 1), bias=False)\n",
              "          (1): BatchNorm2d(32, eps=1e-05, momentum=0.1, affine=True, track_running_stats=True)\n",
              "          (2): ReLU(inplace=True)\n",
              "        )\n",
              "        (attention1): Attention(\n",
              "          (attention): Identity()\n",
              "        )\n",
              "        (conv2): Conv2dReLU(\n",
              "          (0): Conv2d(32, 32, kernel_size=(3, 3), stride=(1, 1), padding=(1, 1), bias=False)\n",
              "          (1): BatchNorm2d(32, eps=1e-05, momentum=0.1, affine=True, track_running_stats=True)\n",
              "          (2): ReLU(inplace=True)\n",
              "        )\n",
              "        (attention2): Attention(\n",
              "          (attention): Identity()\n",
              "        )\n",
              "      )\n",
              "      (4): UnetDecoderBlock(\n",
              "        (conv1): Conv2dReLU(\n",
              "          (0): Conv2d(32, 16, kernel_size=(3, 3), stride=(1, 1), padding=(1, 1), bias=False)\n",
              "          (1): BatchNorm2d(16, eps=1e-05, momentum=0.1, affine=True, track_running_stats=True)\n",
              "          (2): ReLU(inplace=True)\n",
              "        )\n",
              "        (attention1): Attention(\n",
              "          (attention): Identity()\n",
              "        )\n",
              "        (conv2): Conv2dReLU(\n",
              "          (0): Conv2d(16, 16, kernel_size=(3, 3), stride=(1, 1), padding=(1, 1), bias=False)\n",
              "          (1): BatchNorm2d(16, eps=1e-05, momentum=0.1, affine=True, track_running_stats=True)\n",
              "          (2): ReLU(inplace=True)\n",
              "        )\n",
              "        (attention2): Attention(\n",
              "          (attention): Identity()\n",
              "        )\n",
              "      )\n",
              "    )\n",
              "  )\n",
              "  (segmentation_head): SegmentationHead(\n",
              "    (0): Conv2d(16, 4, kernel_size=(3, 3), stride=(1, 1), padding=(1, 1))\n",
              "    (1): Identity()\n",
              "    (2): Activation(\n",
              "      (activation): Identity()\n",
              "    )\n",
              "  )\n",
              ")"
            ]
          },
          "execution_count": 19,
          "metadata": {},
          "output_type": "execute_result"
        }
      ],
      "source": [
        "model"
      ]
    },
    {
      "cell_type": "code",
      "execution_count": 20,
      "metadata": {
        "colab": {
          "base_uri": "https://localhost:8080/"
        },
        "id": "BgyWi5YUzitd",
        "outputId": "4e98291d-22fe-4154-9a77-5b4f755a6e31"
      },
      "outputs": [
        {
          "data": {
            "text/plain": [
              "===============================================================================================\n",
              "Layer (type:depth-idx)                        Output Shape              Param #\n",
              "===============================================================================================\n",
              "Unet                                          [4, 4, 256, 256]          --\n",
              "├─DenseNetEncoder: 1-1                        [4, 1, 256, 256]          --\n",
              "│    └─Sequential: 2-1                        --                        --\n",
              "│    │    └─Conv2d: 3-1                       [4, 64, 128, 128]         3,136\n",
              "│    │    └─BatchNorm2d: 3-2                  [4, 64, 128, 128]         128\n",
              "│    │    └─ReLU: 3-3                         [4, 64, 128, 128]         --\n",
              "│    │    └─MaxPool2d: 3-4                    [4, 64, 64, 64]           --\n",
              "│    │    └─_DenseBlock: 3-5                  [4, 256, 64, 64]          335,040\n",
              "│    │    └─_Transition: 3-6                  --                        33,280\n",
              "│    │    └─_DenseBlock: 3-7                  [4, 512, 32, 32]          919,680\n",
              "│    │    └─_Transition: 3-8                  --                        132,096\n",
              "│    │    └─_DenseBlock: 3-9                  [4, 1024, 16, 16]         2,837,760\n",
              "│    │    └─_Transition: 3-10                 --                        526,336\n",
              "│    │    └─_DenseBlock: 3-11                 [4, 1024, 8, 8]           2,158,080\n",
              "│    │    └─BatchNorm2d: 3-12                 [4, 1024, 8, 8]           2,048\n",
              "├─UnetDecoder: 1-2                            [4, 16, 256, 256]         --\n",
              "│    └─Identity: 2-2                          [4, 1024, 8, 8]           --\n",
              "│    └─ModuleList: 2-3                        --                        --\n",
              "│    │    └─UnetDecoderBlock: 3-13            [4, 256, 16, 16]          5,309,440\n",
              "│    │    └─UnetDecoderBlock: 3-14            [4, 128, 32, 32]          1,032,704\n",
              "│    │    └─UnetDecoderBlock: 3-15            [4, 64, 64, 64]           258,304\n",
              "│    │    └─UnetDecoderBlock: 3-16            [4, 32, 128, 128]         46,208\n",
              "│    │    └─UnetDecoderBlock: 3-17            [4, 16, 256, 256]         6,976\n",
              "├─SegmentationHead: 1-3                       [4, 4, 256, 256]          --\n",
              "│    └─Conv2d: 2-4                            [4, 4, 256, 256]          580\n",
              "│    └─Identity: 2-5                          [4, 4, 256, 256]          --\n",
              "│    └─Activation: 2-6                        [4, 4, 256, 256]          --\n",
              "│    │    └─Identity: 3-18                    [4, 4, 256, 256]          --\n",
              "===============================================================================================\n",
              "Total params: 13,601,796\n",
              "Trainable params: 13,601,796\n",
              "Non-trainable params: 0\n",
              "Total mult-adds (Units.GIGABYTES): 33.27\n",
              "===============================================================================================\n",
              "Input size (MB): 1.05\n",
              "Forward/backward pass size (MB): 1211.63\n",
              "Params size (MB): 54.41\n",
              "Estimated Total Size (MB): 1267.09\n",
              "==============================================================================================="
            ]
          },
          "execution_count": 20,
          "metadata": {},
          "output_type": "execute_result"
        }
      ],
      "source": [
        "try:\n",
        "    import torchinfo\n",
        "except:\n",
        "    !pip install torchinfo\n",
        "    import torchinfo\n",
        "\n",
        "from torchinfo import summary\n",
        "\n",
        "#[batch_size, 1, height, width]\n",
        "summary(model, input_size=[4, 1, 256 , 256])"
      ]
    },
    {
      "cell_type": "code",
      "execution_count": 21,
      "metadata": {
        "colab": {
          "base_uri": "https://localhost:8080/"
        },
        "id": "rghIr666zitj",
        "outputId": "bc9e197f-e26a-4e72-bee3-b2d78f554f2f"
      },
      "outputs": [
        {
          "name": "stderr",
          "output_type": "stream",
          "text": [
            "                                                                     \r"
          ]
        },
        {
          "name": "stdout",
          "output_type": "stream",
          "text": [
            "Epoch 1/50:\n",
            "  Train - Loss: 0.5599, Dice: 0.8215, Acc: 0.9204\n",
            "  Val   - Loss: 0.3095, Dice: 0.8861, Acc: 0.9504\n"
          ]
        },
        {
          "name": "stderr",
          "output_type": "stream",
          "text": [
            "                                                                     \r"
          ]
        },
        {
          "name": "stdout",
          "output_type": "stream",
          "text": [
            "Epoch 2/50:\n",
            "  Train - Loss: 0.2763, Dice: 0.8942, Acc: 0.9523\n",
            "  Val   - Loss: 0.2483, Dice: 0.9002, Acc: 0.9569\n"
          ]
        },
        {
          "name": "stderr",
          "output_type": "stream",
          "text": [
            "                                                                     \r"
          ]
        },
        {
          "name": "stdout",
          "output_type": "stream",
          "text": [
            "Epoch 3/50:\n",
            "  Train - Loss: 0.2300, Dice: 0.9075, Acc: 0.9583\n",
            "  Val   - Loss: 0.2248, Dice: 0.9066, Acc: 0.9594\n"
          ]
        },
        {
          "name": "stderr",
          "output_type": "stream",
          "text": [
            "                                                                     \r"
          ]
        },
        {
          "name": "stdout",
          "output_type": "stream",
          "text": [
            "Epoch 4/50:\n",
            "  Train - Loss: 0.2129, Dice: 0.9124, Acc: 0.9609\n",
            "  Val   - Loss: 0.2336, Dice: 0.9010, Acc: 0.9569\n"
          ]
        },
        {
          "name": "stderr",
          "output_type": "stream",
          "text": [
            "                                                                     \r"
          ]
        },
        {
          "name": "stdout",
          "output_type": "stream",
          "text": [
            "Epoch 5/50:\n",
            "  Train - Loss: 0.1947, Dice: 0.9194, Acc: 0.9635\n",
            "  Val   - Loss: 0.1997, Dice: 0.9158, Acc: 0.9627\n"
          ]
        },
        {
          "name": "stderr",
          "output_type": "stream",
          "text": [
            "                                                                     \r"
          ]
        },
        {
          "name": "stdout",
          "output_type": "stream",
          "text": [
            "Epoch 6/50:\n",
            "  Train - Loss: 0.1936, Dice: 0.9190, Acc: 0.9636\n",
            "  Val   - Loss: 0.2004, Dice: 0.9144, Acc: 0.9625\n"
          ]
        },
        {
          "name": "stderr",
          "output_type": "stream",
          "text": [
            "                                                                     \r"
          ]
        },
        {
          "name": "stdout",
          "output_type": "stream",
          "text": [
            "Epoch 7/50:\n",
            "  Train - Loss: 0.1804, Dice: 0.9239, Acc: 0.9659\n",
            "  Val   - Loss: 0.1953, Dice: 0.9172, Acc: 0.9631\n"
          ]
        },
        {
          "name": "stderr",
          "output_type": "stream",
          "text": [
            "                                                                     \r"
          ]
        },
        {
          "name": "stdout",
          "output_type": "stream",
          "text": [
            "Epoch 8/50:\n",
            "  Train - Loss: 0.1716, Dice: 0.9276, Acc: 0.9674\n",
            "  Val   - Loss: 0.2010, Dice: 0.9155, Acc: 0.9614\n"
          ]
        },
        {
          "name": "stderr",
          "output_type": "stream",
          "text": [
            "                                                                     \r"
          ]
        },
        {
          "name": "stdout",
          "output_type": "stream",
          "text": [
            "Epoch 9/50:\n",
            "  Train - Loss: 0.1672, Dice: 0.9293, Acc: 0.9682\n",
            "  Val   - Loss: 0.1968, Dice: 0.9167, Acc: 0.9628\n"
          ]
        },
        {
          "name": "stderr",
          "output_type": "stream",
          "text": [
            "                                                                      \r"
          ]
        },
        {
          "name": "stdout",
          "output_type": "stream",
          "text": [
            "Epoch 10/50:\n",
            "  Train - Loss: 0.1621, Dice: 0.9312, Acc: 0.9691\n",
            "  Val   - Loss: 0.2007, Dice: 0.9147, Acc: 0.9624\n"
          ]
        },
        {
          "name": "stderr",
          "output_type": "stream",
          "text": [
            "                                                                      \r"
          ]
        },
        {
          "name": "stdout",
          "output_type": "stream",
          "text": [
            "Epoch 11/50:\n",
            "  Train - Loss: 0.1576, Dice: 0.9331, Acc: 0.9699\n",
            "  Val   - Loss: 0.1904, Dice: 0.9190, Acc: 0.9644\n"
          ]
        },
        {
          "name": "stderr",
          "output_type": "stream",
          "text": [
            "                                                                      \r"
          ]
        },
        {
          "name": "stdout",
          "output_type": "stream",
          "text": [
            "Epoch 12/50:\n",
            "  Train - Loss: 0.1577, Dice: 0.9329, Acc: 0.9699\n",
            "  Val   - Loss: 0.1934, Dice: 0.9174, Acc: 0.9635\n"
          ]
        },
        {
          "name": "stderr",
          "output_type": "stream",
          "text": [
            "                                                                      \r"
          ]
        },
        {
          "name": "stdout",
          "output_type": "stream",
          "text": [
            "Epoch 13/50:\n",
            "  Train - Loss: 0.1479, Dice: 0.9368, Acc: 0.9718\n",
            "  Val   - Loss: 0.1891, Dice: 0.9197, Acc: 0.9647\n"
          ]
        },
        {
          "name": "stderr",
          "output_type": "stream",
          "text": [
            "                                                                      \r"
          ]
        },
        {
          "name": "stdout",
          "output_type": "stream",
          "text": [
            "Epoch 14/50:\n",
            "  Train - Loss: 0.1447, Dice: 0.9383, Acc: 0.9722\n",
            "  Val   - Loss: 0.1935, Dice: 0.9186, Acc: 0.9638\n"
          ]
        },
        {
          "name": "stderr",
          "output_type": "stream",
          "text": [
            "                                                                      \r"
          ]
        },
        {
          "name": "stdout",
          "output_type": "stream",
          "text": [
            "Epoch 15/50:\n",
            "  Train - Loss: 0.1454, Dice: 0.9378, Acc: 0.9721\n",
            "  Val   - Loss: 0.1861, Dice: 0.9214, Acc: 0.9650\n"
          ]
        },
        {
          "name": "stderr",
          "output_type": "stream",
          "text": [
            "                                                                      \r"
          ]
        },
        {
          "name": "stdout",
          "output_type": "stream",
          "text": [
            "Epoch 16/50:\n",
            "  Train - Loss: 0.1362, Dice: 0.9417, Acc: 0.9738\n",
            "  Val   - Loss: 0.1984, Dice: 0.9182, Acc: 0.9635\n"
          ]
        },
        {
          "name": "stderr",
          "output_type": "stream",
          "text": [
            "                                                                      \r"
          ]
        },
        {
          "name": "stdout",
          "output_type": "stream",
          "text": [
            "Epoch 17/50:\n",
            "  Train - Loss: 0.1336, Dice: 0.9428, Acc: 0.9744\n",
            "  Val   - Loss: 0.1944, Dice: 0.9181, Acc: 0.9648\n"
          ]
        },
        {
          "name": "stderr",
          "output_type": "stream",
          "text": [
            "                                                                      \r"
          ]
        },
        {
          "name": "stdout",
          "output_type": "stream",
          "text": [
            "Epoch 18/50:\n",
            "  Train - Loss: 0.1295, Dice: 0.9445, Acc: 0.9750\n",
            "  Val   - Loss: 0.1917, Dice: 0.9208, Acc: 0.9643\n"
          ]
        },
        {
          "name": "stderr",
          "output_type": "stream",
          "text": [
            "                                                                      \r"
          ]
        },
        {
          "name": "stdout",
          "output_type": "stream",
          "text": [
            "Epoch 19/50:\n",
            "  Train - Loss: 0.1310, Dice: 0.9438, Acc: 0.9749\n",
            "  Val   - Loss: 0.1904, Dice: 0.9198, Acc: 0.9648\n"
          ]
        },
        {
          "name": "stderr",
          "output_type": "stream",
          "text": [
            "                                                                      \r"
          ]
        },
        {
          "name": "stdout",
          "output_type": "stream",
          "text": [
            "Epoch 20/50:\n",
            "  Train - Loss: 0.1271, Dice: 0.9455, Acc: 0.9755\n",
            "  Val   - Loss: 0.1856, Dice: 0.9229, Acc: 0.9660\n"
          ]
        },
        {
          "name": "stderr",
          "output_type": "stream",
          "text": [
            "                                                                      \r"
          ]
        },
        {
          "name": "stdout",
          "output_type": "stream",
          "text": [
            "Epoch 21/50:\n",
            "  Train - Loss: 0.1220, Dice: 0.9475, Acc: 0.9765\n",
            "  Val   - Loss: 0.1943, Dice: 0.9204, Acc: 0.9646\n"
          ]
        },
        {
          "name": "stderr",
          "output_type": "stream",
          "text": [
            "                                                                      \r"
          ]
        },
        {
          "name": "stdout",
          "output_type": "stream",
          "text": [
            "Epoch 22/50:\n",
            "  Train - Loss: 0.1206, Dice: 0.9482, Acc: 0.9767\n",
            "  Val   - Loss: 0.1929, Dice: 0.9207, Acc: 0.9651\n"
          ]
        },
        {
          "name": "stderr",
          "output_type": "stream",
          "text": [
            "                                                                      \r"
          ]
        },
        {
          "name": "stdout",
          "output_type": "stream",
          "text": [
            "Epoch 23/50:\n",
            "  Train - Loss: 0.1240, Dice: 0.9466, Acc: 0.9763\n",
            "  Val   - Loss: 0.1868, Dice: 0.9219, Acc: 0.9657\n"
          ]
        },
        {
          "name": "stderr",
          "output_type": "stream",
          "text": [
            "                                                                      \r"
          ]
        },
        {
          "name": "stdout",
          "output_type": "stream",
          "text": [
            "Epoch 24/50:\n",
            "  Train - Loss: 0.1191, Dice: 0.9490, Acc: 0.9771\n",
            "  Val   - Loss: 0.1929, Dice: 0.9206, Acc: 0.9655\n"
          ]
        },
        {
          "name": "stderr",
          "output_type": "stream",
          "text": [
            "                                                                      \r"
          ]
        },
        {
          "name": "stdout",
          "output_type": "stream",
          "text": [
            "Epoch 25/50:\n",
            "  Train - Loss: 0.1132, Dice: 0.9513, Acc: 0.9782\n",
            "  Val   - Loss: 0.1872, Dice: 0.9235, Acc: 0.9664\n"
          ]
        },
        {
          "name": "stderr",
          "output_type": "stream",
          "text": [
            "                                                                      \r"
          ]
        },
        {
          "name": "stdout",
          "output_type": "stream",
          "text": [
            "Epoch 26/50:\n",
            "  Train - Loss: 0.1100, Dice: 0.9526, Acc: 0.9788\n",
            "  Val   - Loss: 0.1933, Dice: 0.9221, Acc: 0.9660\n"
          ]
        },
        {
          "name": "stderr",
          "output_type": "stream",
          "text": [
            "                                                                      \r"
          ]
        },
        {
          "name": "stdout",
          "output_type": "stream",
          "text": [
            "Epoch 27/50:\n",
            "  Train - Loss: 0.1090, Dice: 0.9530, Acc: 0.9790\n",
            "  Val   - Loss: 0.1934, Dice: 0.9225, Acc: 0.9660\n"
          ]
        },
        {
          "name": "stderr",
          "output_type": "stream",
          "text": [
            "                                                                      \r"
          ]
        },
        {
          "name": "stdout",
          "output_type": "stream",
          "text": [
            "Epoch 28/50:\n",
            "  Train - Loss: 0.1080, Dice: 0.9536, Acc: 0.9792\n",
            "  Val   - Loss: 0.1879, Dice: 0.9247, Acc: 0.9667\n"
          ]
        },
        {
          "name": "stderr",
          "output_type": "stream",
          "text": [
            "                                                                      \r"
          ]
        },
        {
          "name": "stdout",
          "output_type": "stream",
          "text": [
            "Epoch 29/50:\n",
            "  Train - Loss: 0.1060, Dice: 0.9544, Acc: 0.9795\n",
            "  Val   - Loss: 0.1943, Dice: 0.9220, Acc: 0.9661\n"
          ]
        },
        {
          "name": "stderr",
          "output_type": "stream",
          "text": [
            "                                                                      \r"
          ]
        },
        {
          "name": "stdout",
          "output_type": "stream",
          "text": [
            "Epoch 30/50:\n",
            "  Train - Loss: 0.1032, Dice: 0.9555, Acc: 0.9801\n",
            "  Val   - Loss: 0.1900, Dice: 0.9245, Acc: 0.9665\n"
          ]
        },
        {
          "name": "stderr",
          "output_type": "stream",
          "text": [
            "                                                                      \r"
          ]
        },
        {
          "name": "stdout",
          "output_type": "stream",
          "text": [
            "Epoch 31/50:\n",
            "  Train - Loss: 0.1026, Dice: 0.9559, Acc: 0.9802\n",
            "  Val   - Loss: 0.1989, Dice: 0.9223, Acc: 0.9656\n"
          ]
        },
        {
          "name": "stderr",
          "output_type": "stream",
          "text": [
            "                                                                      \r"
          ]
        },
        {
          "name": "stdout",
          "output_type": "stream",
          "text": [
            "Epoch 32/50:\n",
            "  Train - Loss: 0.1016, Dice: 0.9563, Acc: 0.9804\n",
            "  Val   - Loss: 0.1890, Dice: 0.9246, Acc: 0.9666\n"
          ]
        },
        {
          "name": "stderr",
          "output_type": "stream",
          "text": [
            "                                                                      \r"
          ]
        },
        {
          "name": "stdout",
          "output_type": "stream",
          "text": [
            "Epoch 33/50:\n",
            "  Train - Loss: 0.1011, Dice: 0.9565, Acc: 0.9805\n",
            "  Val   - Loss: 0.1979, Dice: 0.9225, Acc: 0.9663\n"
          ]
        },
        {
          "name": "stderr",
          "output_type": "stream",
          "text": [
            "                                                                      \r"
          ]
        },
        {
          "name": "stdout",
          "output_type": "stream",
          "text": [
            "Epoch 34/50:\n",
            "  Train - Loss: 0.0988, Dice: 0.9574, Acc: 0.9810\n",
            "  Val   - Loss: 0.1983, Dice: 0.9222, Acc: 0.9646\n"
          ]
        },
        {
          "name": "stderr",
          "output_type": "stream",
          "text": [
            "                                                                      \r"
          ]
        },
        {
          "name": "stdout",
          "output_type": "stream",
          "text": [
            "Epoch 35/50:\n",
            "  Train - Loss: 0.0961, Dice: 0.9587, Acc: 0.9815\n",
            "  Val   - Loss: 0.1966, Dice: 0.9232, Acc: 0.9662\n"
          ]
        },
        {
          "name": "stderr",
          "output_type": "stream",
          "text": [
            "                                                                      \r"
          ]
        },
        {
          "name": "stdout",
          "output_type": "stream",
          "text": [
            "Epoch 36/50:\n",
            "  Train - Loss: 0.0959, Dice: 0.9586, Acc: 0.9816\n",
            "  Val   - Loss: 0.1969, Dice: 0.9234, Acc: 0.9663\n"
          ]
        },
        {
          "name": "stderr",
          "output_type": "stream",
          "text": [
            "                                                                      \r"
          ]
        },
        {
          "name": "stdout",
          "output_type": "stream",
          "text": [
            "Epoch 37/50:\n",
            "  Train - Loss: 0.0929, Dice: 0.9599, Acc: 0.9821\n",
            "  Val   - Loss: 0.1993, Dice: 0.9243, Acc: 0.9661\n"
          ]
        },
        {
          "name": "stderr",
          "output_type": "stream",
          "text": [
            "                                                                      \r"
          ]
        },
        {
          "name": "stdout",
          "output_type": "stream",
          "text": [
            "Epoch 38/50:\n",
            "  Train - Loss: 0.0932, Dice: 0.9599, Acc: 0.9820\n",
            "  Val   - Loss: 0.1957, Dice: 0.9248, Acc: 0.9667\n"
          ]
        },
        {
          "name": "stderr",
          "output_type": "stream",
          "text": [
            "                                                                      \r"
          ]
        },
        {
          "name": "stdout",
          "output_type": "stream",
          "text": [
            "Epoch 39/50:\n",
            "  Train - Loss: 0.0977, Dice: 0.9580, Acc: 0.9813\n",
            "  Val   - Loss: 0.1947, Dice: 0.9236, Acc: 0.9663\n"
          ]
        },
        {
          "name": "stderr",
          "output_type": "stream",
          "text": [
            "                                                                      \r"
          ]
        },
        {
          "name": "stdout",
          "output_type": "stream",
          "text": [
            "Epoch 40/50:\n",
            "  Train - Loss: 0.0917, Dice: 0.9607, Acc: 0.9823\n",
            "  Val   - Loss: 0.2009, Dice: 0.9232, Acc: 0.9663\n"
          ]
        },
        {
          "name": "stderr",
          "output_type": "stream",
          "text": [
            "                                                                      \r"
          ]
        },
        {
          "name": "stdout",
          "output_type": "stream",
          "text": [
            "Epoch 41/50:\n",
            "  Train - Loss: 0.0895, Dice: 0.9615, Acc: 0.9827\n",
            "  Val   - Loss: 0.1992, Dice: 0.9245, Acc: 0.9665\n"
          ]
        },
        {
          "name": "stderr",
          "output_type": "stream",
          "text": [
            "                                                                      \r"
          ]
        },
        {
          "name": "stdout",
          "output_type": "stream",
          "text": [
            "Epoch 42/50:\n",
            "  Train - Loss: 0.0889, Dice: 0.9617, Acc: 0.9828\n",
            "  Val   - Loss: 0.2018, Dice: 0.9241, Acc: 0.9666\n"
          ]
        },
        {
          "name": "stderr",
          "output_type": "stream",
          "text": [
            "                                                                      \r"
          ]
        },
        {
          "name": "stdout",
          "output_type": "stream",
          "text": [
            "Epoch 43/50:\n",
            "  Train - Loss: 0.0870, Dice: 0.9626, Acc: 0.9832\n",
            "  Val   - Loss: 0.1959, Dice: 0.9246, Acc: 0.9669\n"
          ]
        },
        {
          "name": "stderr",
          "output_type": "stream",
          "text": [
            "                                                                      \r"
          ]
        },
        {
          "name": "stdout",
          "output_type": "stream",
          "text": [
            "Epoch 44/50:\n",
            "  Train - Loss: 0.0852, Dice: 0.9632, Acc: 0.9835\n",
            "  Val   - Loss: 0.2081, Dice: 0.9219, Acc: 0.9660\n"
          ]
        },
        {
          "name": "stderr",
          "output_type": "stream",
          "text": [
            "                                                                      \r"
          ]
        },
        {
          "name": "stdout",
          "output_type": "stream",
          "text": [
            "Epoch 45/50:\n",
            "  Train - Loss: 0.0846, Dice: 0.9636, Acc: 0.9836\n",
            "  Val   - Loss: 0.2015, Dice: 0.9238, Acc: 0.9663\n"
          ]
        },
        {
          "name": "stderr",
          "output_type": "stream",
          "text": [
            "                                                                      \r"
          ]
        },
        {
          "name": "stdout",
          "output_type": "stream",
          "text": [
            "Epoch 46/50:\n",
            "  Train - Loss: 0.0846, Dice: 0.9636, Acc: 0.9837\n",
            "  Val   - Loss: 0.2069, Dice: 0.9237, Acc: 0.9665\n"
          ]
        },
        {
          "name": "stderr",
          "output_type": "stream",
          "text": [
            "                                                                      \r"
          ]
        },
        {
          "name": "stdout",
          "output_type": "stream",
          "text": [
            "Epoch 47/50:\n",
            "  Train - Loss: 0.0859, Dice: 0.9630, Acc: 0.9834\n",
            "  Val   - Loss: 0.2022, Dice: 0.9249, Acc: 0.9665\n"
          ]
        },
        {
          "name": "stderr",
          "output_type": "stream",
          "text": [
            "                                                                      \r"
          ]
        },
        {
          "name": "stdout",
          "output_type": "stream",
          "text": [
            "Epoch 48/50:\n",
            "  Train - Loss: 0.0837, Dice: 0.9640, Acc: 0.9838\n",
            "  Val   - Loss: 0.2038, Dice: 0.9240, Acc: 0.9668\n"
          ]
        },
        {
          "name": "stderr",
          "output_type": "stream",
          "text": [
            "                                                                      \r"
          ]
        },
        {
          "name": "stdout",
          "output_type": "stream",
          "text": [
            "Epoch 49/50:\n",
            "  Train - Loss: 0.0822, Dice: 0.9645, Acc: 0.9841\n",
            "  Val   - Loss: 0.2035, Dice: 0.9237, Acc: 0.9669\n"
          ]
        },
        {
          "name": "stderr",
          "output_type": "stream",
          "text": [
            "                                                                      \r"
          ]
        },
        {
          "name": "stdout",
          "output_type": "stream",
          "text": [
            "Epoch 50/50:\n",
            "  Train - Loss: 0.0837, Dice: 0.9640, Acc: 0.9838\n",
            "  Val   - Loss: 0.2015, Dice: 0.9245, Acc: 0.9666\n",
            "Model with Dice+CE loss saved to F:\\Rohit\\LRP\\densenet_dice_ce.pth\n"
          ]
        }
      ],
      "source": [
        "import torch\n",
        "import torch.optim as optim\n",
        "import torch.nn as nn\n",
        "import numpy as np\n",
        "from tqdm import tqdm\n",
        "import segmentation_models_pytorch as smp\n",
        "\n",
        "# -------------------------------------------\n",
        "# Combined Dice + Cross‐Entropy Loss for multi‐class segmentation\n",
        "class DiceCELoss(nn.Module):\n",
        "    def __init__(\n",
        "        self,\n",
        "        dice_weight: float = 1.0,\n",
        "        ce_weight: float = 1.0,\n",
        "        smooth: float = 1e-6,\n",
        "        ce_kwargs: dict = None\n",
        "    ):\n",
        "        super().__init__()\n",
        "        self.dice_weight = dice_weight\n",
        "        self.ce_weight   = ce_weight\n",
        "        self.smooth      = smooth\n",
        "        # you can pass weight, ignore_index, etc. to CE via ce_kwargs\n",
        "        self.ce_loss = nn.CrossEntropyLoss(**(ce_kwargs or {}))\n",
        "\n",
        "    def forward(self, logits: torch.Tensor, targets: torch.Tensor) -> torch.Tensor:\n",
        "        # --- Dice part ---\n",
        "        probs = torch.softmax(logits, dim=1)             # (N, C, H, W)\n",
        "        N, C, H, W = probs.shape\n",
        "        probs_flat   = probs.view(N, C, -1)\n",
        "        targets_flat = targets.view(N, C, -1)\n",
        "\n",
        "        intersection = (probs_flat * targets_flat).sum(-1)       # (N, C)\n",
        "        union        = probs_flat.sum(-1) + targets_flat.sum(-1) # (N, C)\n",
        "        dice_score   = (2 * intersection + self.smooth) / (union + self.smooth)\n",
        "        dice_loss    = 1.0 - dice_score.mean()\n",
        "\n",
        "        # --- Cross‐Entropy part ---\n",
        "        # CE expects class‐indices of shape (N, H, W)\n",
        "        target_indices = torch.argmax(targets, dim=1).long()\n",
        "        ce_loss = self.ce_loss(logits, target_indices)\n",
        "\n",
        "        # --- Combine ---\n",
        "        return self.dice_weight * dice_loss + self.ce_weight * ce_loss\n",
        "\n",
        "# -------------------------------------------\n",
        "# Dice coefficient for logging\n",
        "def dice_coefficient(outputs: torch.Tensor, targets: torch.Tensor, smooth: float = 1e-8) -> torch.Tensor:\n",
        "    probs = torch.softmax(outputs, dim=1)\n",
        "    preds = torch.argmax(probs, dim=1)\n",
        "    true  = torch.argmax(targets, dim=1)\n",
        "\n",
        "    preds_one_hot = nn.functional.one_hot(preds, num_classes=outputs.shape[1])\n",
        "    true_one_hot  = nn.functional.one_hot(true,  num_classes=outputs.shape[1])\n",
        "\n",
        "    preds_flat = preds_one_hot.permute(0,3,1,2).view(preds_one_hot.size(0), preds_one_hot.size(3), -1)\n",
        "    true_flat  = true_one_hot .permute(0,3,1,2).view(true_one_hot.size(0),  true_one_hot.size(3),  -1)\n",
        "\n",
        "    intersection = (preds_flat * true_flat).sum(-1)\n",
        "    union        = preds_flat.sum(-1) + true_flat.sum(-1)\n",
        "    dice = (2.0 * intersection + smooth) / (union + smooth)\n",
        "    return dice.mean()\n",
        "\n",
        "# -------------------------------------------\n",
        "# Pixel accuracy for logging\n",
        "def pixel_accuracy(outputs: torch.Tensor, targets: torch.Tensor) -> torch.Tensor:\n",
        "    preds = torch.argmax(outputs, dim=1)\n",
        "    true  = torch.argmax(targets, dim=1)\n",
        "    return (preds == true).float().mean()\n",
        "\n",
        "# -------------------------------------------\n",
        "# Define UNet model\n",
        "model = smp.Unet(\n",
        "    encoder_name=\"densenet121\",\n",
        "    encoder_weights=\"imagenet\",\n",
        "    in_channels=1,\n",
        "    classes=4,           # number of segmentation classes\n",
        "    activation=None      # keep None for raw logits (DiceCELoss applies softmax & CE uses logits)\n",
        ")\n",
        "model = model.to(device)\n",
        "\n",
        "# -------------------------------------------\n",
        "# Instantiate combined loss and optimizer\n",
        "criterion = DiceCELoss(dice_weight=1.0, ce_weight=1.0, smooth=1e-6)\n",
        "optimizer = optim.Adam(model.parameters(), lr=1e-4, weight_decay=1e-5)\n",
        "\n",
        "# -------------------------------------------\n",
        "# Training Loop\n",
        "num_epochs = 50\n",
        "\n",
        "train_loss_list, val_loss_list = [], []\n",
        "train_dice_list, val_dice_list = [], []\n",
        "train_acc_list,  val_acc_list  = [], []\n",
        "\n",
        "for epoch in range(num_epochs):\n",
        "    # ------ Training ------\n",
        "    model.train()\n",
        "    running_loss = 0.0\n",
        "    dice_epoch, acc_epoch = [], []\n",
        "\n",
        "    for images, masks in tqdm(train_loader, desc=f\"Epoch {epoch+1}/{num_epochs} - Train\", leave=False):\n",
        "        images = images.to(device)\n",
        "        masks  = masks.to(device).float()  # one-hot encoded masks\n",
        "\n",
        "        optimizer.zero_grad()\n",
        "        outputs = model(images)                # raw logits\n",
        "        loss    = criterion(outputs, masks)    # combined Dice + CE\n",
        "        loss.backward()\n",
        "        optimizer.step()\n",
        "\n",
        "        running_loss += loss.item()\n",
        "        with torch.no_grad():\n",
        "            dice_epoch.append(dice_coefficient(outputs, masks).item())\n",
        "            acc_epoch.append(pixel_accuracy(outputs, masks).item())\n",
        "\n",
        "    train_loss_list.append(running_loss / len(train_loader))\n",
        "    train_dice_list.append(np.mean(dice_epoch))\n",
        "    train_acc_list.append(np.mean(acc_epoch))\n",
        "\n",
        "    # ------ Validation ------\n",
        "    model.eval()\n",
        "    running_loss = 0.0\n",
        "    dice_epoch, acc_epoch = [], []\n",
        "\n",
        "    with torch.no_grad():\n",
        "        for images, masks in tqdm(val_loader, desc=f\"Epoch {epoch+1}/{num_epochs} - Val\", leave=False):\n",
        "            images = images.to(device)\n",
        "            masks  = masks.to(device).float()\n",
        "\n",
        "            outputs = model(images)\n",
        "            loss    = criterion(outputs, masks)\n",
        "            running_loss += loss.item()\n",
        "            dice_epoch.append(dice_coefficient(outputs, masks).item())\n",
        "            acc_epoch.append(pixel_accuracy(outputs, masks).item())\n",
        "\n",
        "    val_loss_list.append(running_loss / len(val_loader))\n",
        "    val_dice_list.append(np.mean(dice_epoch))\n",
        "    val_acc_list.append(np.mean(acc_epoch))\n",
        "\n",
        "    # ------ Epoch Summary ------\n",
        "    print(f\"Epoch {epoch+1}/{num_epochs}:\")\n",
        "    print(f\"  Train - Loss: {train_loss_list[-1]:.4f}, Dice: {train_dice_list[-1]:.4f}, Acc: {train_acc_list[-1]:.4f}\")\n",
        "    print(f\"  Val   - Loss: {val_loss_list[-1]:.4f}, Dice: {val_dice_list[-1]:.4f}, Acc: {val_acc_list[-1]:.4f}\")\n",
        "\n",
        "# Save model checkpoint\n",
        "save_path = r\"F:\\Rohit\\LRP\\densenet_dice_ce.pth\"\n",
        "torch.save(model.state_dict(), save_path)\n",
        "print(f\"Model with Dice+CE loss saved to {save_path}\")\n"
      ]
    },
    {
      "cell_type": "code",
      "execution_count": 22,
      "metadata": {
        "colab": {
          "base_uri": "https://localhost:8080/",
          "height": 237
        },
        "id": "rEF4oA-yzitl",
        "outputId": "c20aa015-bd19-4fdb-f6e4-85e3676a4948"
      },
      "outputs": [
        {
          "data": {
            "image/png": "[encoded data removed]",
            "text/plain": [
              "<Figure size 1500x500 with 3 Axes>"
            ]
          },
          "metadata": {},
          "output_type": "display_data"
        }
      ],
      "source": [
        "import matplotlib.pyplot as plt\n",
        "import numpy as np\n",
        "\n",
        "# Assuming these are defined from your training loop:\n",
        "# num_epochs,\n",
        "# train_loss_list, val_loss_list,\n",
        "# train_dice_list,  val_dice_list,\n",
        "# train_acc_list,   val_acc_list\n",
        "\n",
        "epochs_range = range(1, num_epochs + 1)\n",
        "plt.figure(figsize=(15, 5))\n",
        "\n",
        "# Loss vs Epoch\n",
        "plt.subplot(1, 3, 1)\n",
        "plt.plot(epochs_range, train_loss_list, label=\"Train Loss\", linestyle='-')\n",
        "plt.plot(epochs_range, val_loss_list,   label=\"Val Loss\",   linestyle='-')\n",
        "plt.xlabel(\"Epoch\")\n",
        "plt.ylabel(\"Loss\")\n",
        "plt.title(\"Loss vs Epoch\")\n",
        "plt.legend()\n",
        "plt.ylim(0, 1)\n",
        "plt.yticks(np.arange(0, 1.1, 0.1))\n",
        "\n",
        "# Dice vs Epoch\n",
        "plt.subplot(1, 3, 2)\n",
        "plt.plot(epochs_range, train_dice_list, label=\"Train Dice\", linestyle='-')\n",
        "plt.plot(epochs_range, val_dice_list,   label=\"Val Dice\",   linestyle='-')\n",
        "plt.xlabel(\"Epoch\")\n",
        "plt.ylabel(\"Dice Coefficient\")\n",
        "plt.title(\"Dice vs Epoch\")\n",
        "plt.legend()\n",
        "plt.ylim(0, 1)\n",
        "plt.yticks(np.arange(0, 1.1, 0.1))\n",
        "\n",
        "# Accuracy vs Epoch\n",
        "plt.subplot(1, 3, 3)\n",
        "plt.plot(epochs_range, train_acc_list,  label=\"Train Accuracy\", linestyle='-')\n",
        "plt.plot(epochs_range, val_acc_list,    label=\"Val Accuracy\",   linestyle='-')\n",
        "plt.xlabel(\"Epoch\")\n",
        "plt.ylabel(\"Pixel Accuracy\")\n",
        "plt.title(\"Accuracy vs Epoch\")\n",
        "plt.legend()\n",
        "plt.ylim(0.8, 1)\n",
        "plt.yticks(np.arange(0.8, 1.001, 0.01))\n",
        "\n",
        "plt.tight_layout()\n",
        "plt.show()\n"
      ]
    },
    {
      "cell_type": "code",
      "execution_count": 23,
      "metadata": {
        "colab": {
          "base_uri": "https://localhost:8080/",
          "height": 363
        },
        "id": "2mB2U3bJzits",
        "outputId": "fe526820-ee88-4ad8-96c4-e0beac634445"
      },
      "outputs": [
        {
          "data": {
            "image/png": "[encoded data removed]",
            "text/plain": [
              "<Figure size 1200x600 with 2 Axes>"
            ]
          },
          "metadata": {},
          "output_type": "display_data"
        }
      ],
      "source": [
        "import nibabel as nib\n",
        "import numpy as np\n",
        "import matplotlib.pyplot as plt\n",
        "import torch\n",
        "import segmentation_models_pytorch as smp\n",
        "import cv2  # For resizing and saving\n",
        "\n",
        "# ----------------------------\n",
        "# Define device\n",
        "device = torch.device(\"cuda\" if torch.cuda.is_available() else \"cpu\")\n",
        "\n",
        "# ----------------------------\n",
        "# Load the trained model\n",
        "model_save_path = r\"F:\\Rohit\\LRP\\densenet_dice_ce.pth\" # Update with your model path\n",
        "model = smp.Unet(\n",
        "    encoder_name=\"densenet121\",\n",
        "    encoder_weights=\"imagenet\",\n",
        "    in_channels=1,\n",
        "    classes=4,        # Background + three foreground classes\n",
        "    activation=None   # No activation here; we'll apply softmax manually\n",
        ")\n",
        "model.load_state_dict(torch.load(model_save_path, map_location=device))\n",
        "model = model.to(device)\n",
        "model.eval()\n",
        "\n",
        "# ----------------------------\n",
        "# Load the input .nii.gz file\n",
        "input_file = r\"F:\\Rohit\\Segmentation CAMUS\\Dataset\\nii_img\\patient0001_2CH_ED.nii.gz\"  # Update with your input file\n",
        "nii_img   = nib.load(input_file)\n",
        "img_data  = nii_img.get_fdata()\n",
        "\n",
        "# Select a 2D slice if 3D\n",
        "if img_data.ndim == 3:\n",
        "    slice_index = img_data.shape[2] // 2\n",
        "    img_slice   = img_data[:, :, slice_index]\n",
        "elif img_data.ndim == 2:\n",
        "    img_slice = img_data\n",
        "else:\n",
        "    raise ValueError(f\"Unexpected image dimensions: {img_data.shape}\")\n",
        "\n",
        "# Normalize to [0,1]\n",
        "img_min, img_max = img_slice.min(), img_slice.max()\n",
        "if img_max > img_min:\n",
        "    img_slice = (img_slice - img_min) / (img_max - img_min)\n",
        "\n",
        "# Resize to 256×256\n",
        "img_resized = cv2.resize(img_slice.astype(np.float32), (256, 256))\n",
        "\n",
        "# Prepare tensor: (B=1, C=1, H=256, W=256)\n",
        "img_tensor = torch.from_numpy(img_resized).unsqueeze(0).unsqueeze(0).to(device)\n",
        "\n",
        "# ----------------------------\n",
        "# Run inference\n",
        "with torch.no_grad():\n",
        "    logits     = model(img_tensor)               # (1, 4, 256, 256)\n",
        "    probs      = torch.softmax(logits, dim=1)    # normalize across the 4 classes\n",
        "    pred_mask  = torch.argmax(probs, dim=1)      # (1, 256, 256)\n",
        "    pred_mask  = pred_mask.squeeze(0).cpu().numpy().astype(np.uint8)\n",
        "\n",
        "# ----------------------------\n",
        "# Optional: save the raw mask as a single‐channel PNG\n",
        "# Scale classes {0,1,2,3} → {0,85,170,255} for visibility\n",
        "mask_to_save = (pred_mask * (255 // 3)).astype(np.uint8)\n",
        "cv2.imwrite(\"pred_mask_gray.png\", mask_to_save)\n",
        "\n",
        "# ----------------------------\n",
        "# Display side‐by‐side: original vs. predicted mask in grayscale\n",
        "fig, axes = plt.subplots(1, 2, figsize=(12, 6))\n",
        "\n",
        "# Original image\n",
        "axes[0].imshow(img_resized, cmap=\"gray\")\n",
        "axes[0].set_title(\"Original Image\")\n",
        "axes[0].axis(\"off\")\n",
        "\n",
        "# Predicted mask\n",
        "axes[1].imshow(pred_mask, cmap=\"gray\", vmin=0, vmax=3)\n",
        "axes[1].set_title(\"Predicted Mask (Grayscale)\")\n",
        "axes[1].axis(\"off\")\n",
        "\n",
        "plt.tight_layout()\n",
        "plt.savefig(\"segmentation_side_by_side_gray.png\", bbox_inches=\"tight\", pad_inches=0)\n",
        "plt.show()\n"
      ]
    },
    {
      "cell_type": "code",
      "execution_count": null,
      "metadata": {
        "colab": {
          "base_uri": "https://localhost:8080/"
        },
        "id": "t7HbU8qPzit6",
        "outputId": "b1ceb143-ba8b-4fa9-a4d5-cc566f9868a1"
      },
      "outputs": [
        {
          "name": "stdout",
          "output_type": "stream",
          "text": [
            "Using device: cuda\n",
            "---- Evaluation Metrics ----\n",
            "Dice Coef    : 0.9666 ± 0.0131\n",
            "Jaccard IoU  : 0.9356 ± 0.0242\n",
            "Hausdorff    : 2.9805 ± 0.1193\n",
            "MAE          : 0.0167 ± 0.0066\n",
            "MAD          : 2.0254 ± 1.2968\n",
            "Accuracy     : 0.9833 ± 0.0066\n",
            "Precision    : 0.9666 ± 0.0131\n",
            "Recall       : 0.9666 ± 0.0131\n",
            "Correlation  : 0.9554 ± 0.0175\n"
          ]
        }
      ],
      "source": [
        "import numpy as np\n",
        "import cv2\n",
        "from scipy.spatial.distance import directed_hausdorff\n",
        "from sklearn.metrics import accuracy_score, precision_score, recall_score, mean_absolute_error\n",
        "import torch\n",
        "import torch.nn.functional as F\n",
        "import segmentation_models_pytorch as smp\n",
        "\n",
        "# -------------------------------\n",
        "# Device\n",
        "# -------------------------------\n",
        "device = torch.device(\"cuda\" if torch.cuda.is_available() else \"cpu\")\n",
        "print(f\"Using device: {device}\")\n",
        "\n",
        "# -------------------------------\n",
        "# Metric Functions (unchanged)\n",
        "# -------------------------------\n",
        "\n",
        "def dice_coefficient(y_true, y_pred, smooth=1):\n",
        "    y_true = y_true.astype(np.float32)\n",
        "    y_pred = y_pred.astype(np.float32)\n",
        "    intersection = np.sum(y_true * y_pred)\n",
        "    return (2. * intersection + smooth) / (np.sum(y_true) + np.sum(y_pred) + smooth)\n",
        "\n",
        "def jaccard_index(y_true, y_pred, smooth=1):\n",
        "    y_true = y_true.astype(np.float32)\n",
        "    y_pred = y_pred.astype(np.float32)\n",
        "    intersection = np.sum(y_true * y_pred)\n",
        "    union = np.sum(y_true) + np.sum(y_pred) - intersection\n",
        "    return (intersection + smooth) / (union + smooth)\n",
        "\n",
        "def hausdorff_distance_single(y_true, y_pred):\n",
        "    coords_true = np.column_stack(np.where(y_true))\n",
        "    coords_pred = np.column_stack(np.where(y_pred))\n",
        "    if coords_true.size == 0 or coords_pred.size == 0:\n",
        "        return np.nan\n",
        "    d_forward = directed_hausdorff(coords_true, coords_pred)[0]\n",
        "    d_backward = directed_hausdorff(coords_pred, coords_true)[0]\n",
        "    return max(d_forward, d_backward)\n",
        "\n",
        "def mean_absolute_distance_multi(y_true, y_pred):\n",
        "    distances = []\n",
        "    channels = y_true.shape[-1]\n",
        "    for i in range(channels):\n",
        "        channel_true = y_true[..., i]\n",
        "        channel_pred = y_pred[..., i]\n",
        "        mask_true = (channel_true * 255).astype(np.uint8)\n",
        "        mask_pred = (channel_pred * 255).astype(np.uint8)\n",
        "        contours_true, _ = cv2.findContours(mask_true, cv2.RETR_EXTERNAL, cv2.CHAIN_APPROX_NONE)\n",
        "        contours_pred, _ = cv2.findContours(mask_pred, cv2.RETR_EXTERNAL, cv2.CHAIN_APPROX_NONE)\n",
        "        if not contours_true or not contours_pred:\n",
        "            distances.append(np.nan)\n",
        "        else:\n",
        "            pts_true = np.vstack(contours_true)[:, 0, :]\n",
        "            pts_pred = np.vstack(contours_pred)[:, 0, :]\n",
        "            dists = [np.min(np.linalg.norm(pts_pred - pt, axis=1)) for pt in pts_true]\n",
        "            distances.append(np.mean(dists))\n",
        "    return np.nanmean(distances)\n",
        "\n",
        "def compute_mae(y_true, y_pred):\n",
        "    return mean_absolute_error(y_true.flatten(), y_pred.flatten())\n",
        "\n",
        "def compute_classification_metrics(y_true, y_pred):\n",
        "    y_true_flat = y_true.flatten()\n",
        "    y_pred_flat = y_pred.flatten()\n",
        "    acc  = accuracy_score(y_true_flat, y_pred_flat)\n",
        "    prec = precision_score(y_true_flat, y_pred_flat, zero_division=0)\n",
        "    rec  = recall_score(y_true_flat, y_pred_flat, zero_division=0)\n",
        "    return acc, prec, rec\n",
        "\n",
        "def compute_correlation(y_true, y_pred):\n",
        "    y_true_flat = y_true.flatten()\n",
        "    y_pred_flat = y_pred.flatten()\n",
        "    return np.corrcoef(y_true_flat, y_pred_flat)[0, 1]\n",
        "\n",
        "# -------------------------------\n",
        "# Evaluation Function\n",
        "# -------------------------------\n",
        "\n",
        "def evaluate_model(model, dataloader, device):\n",
        "    \"\"\"\n",
        "    Runs multiclass evaluation on GPU; moves tensors to CPU only\n",
        "    when computing NumPy‐based metrics.\n",
        "    \"\"\"\n",
        "    dice_scores, jaccard_scores = [], []\n",
        "    hausdorff_scores, mae_scores = [], []\n",
        "    mad_scores = []\n",
        "    accuracies, precisions, recalls = [], [], []\n",
        "    correlations = []\n",
        "\n",
        "    model.eval()\n",
        "    with torch.no_grad():\n",
        "        for imgs, masks in dataloader:\n",
        "            # send to GPU\n",
        "            imgs  = imgs.to(device)\n",
        "            masks = masks.to(device)  # one‐hot floats: (B, C, H, W)\n",
        "\n",
        "            # forward\n",
        "            logits   = model(imgs)\n",
        "            probs    = torch.softmax(logits, dim=1)\n",
        "            pred_idx = torch.argmax(probs, dim=1)\n",
        "\n",
        "            # one‐hot encode predictions\n",
        "            num_classes = masks.shape[1]\n",
        "            preds_onehot = F.one_hot(pred_idx, num_classes) \\\n",
        "                              .permute(0, 3, 1, 2).float()\n",
        "\n",
        "            # bring back to CPU for metric loops\n",
        "            preds_np = preds_onehot.cpu().numpy().transpose(0, 2, 3, 1)\n",
        "            masks_np = masks.cpu().numpy()       .transpose(0, 2, 3, 1)\n",
        "\n",
        "            for p, t in zip(preds_np, masks_np):\n",
        "                dice_scores.append(dice_coefficient(t, p))\n",
        "                jaccard_scores.append(jaccard_index(t, p))\n",
        "                hausdorff_scores.append(hausdorff_distance_single(t, p))\n",
        "                mae_scores.append(compute_mae(t, p))\n",
        "                mad_scores.append(mean_absolute_distance_multi(t, p))\n",
        "                acc, prec, rec = compute_classification_metrics(t, p)\n",
        "                accuracies.append(acc);    precisions.append(prec)\n",
        "                recalls.append(rec);       correlations.append(compute_correlation(t, p))\n",
        "\n",
        "    # summary\n",
        "    print(\"---- Evaluation Metrics ----\")\n",
        "    print(f\"Dice Coef    : {np.nanmean(dice_scores):.4f} ± {np.nanstd(dice_scores):.4f}\")\n",
        "    print(f\"Jaccard IoU  : {np.nanmean(jaccard_scores):.4f} ± {np.nanstd(jaccard_scores):.4f}\")\n",
        "    print(f\"Hausdorff    : {np.nanmean(hausdorff_scores):.4f} ± {np.nanstd(hausdorff_scores):.4f}\")\n",
        "    print(f\"MAE          : {np.mean(mae_scores):.4f} ± {np.std(mae_scores):.4f}\")\n",
        "    print(f\"MAD          : {np.mean(mad_scores):.4f} ± {np.std(mad_scores):.4f}\")\n",
        "    print(f\"Accuracy     : {np.mean(accuracies):.4f} ± {np.std(accuracies):.4f}\")\n",
        "    print(f\"Precision    : {np.mean(precisions):.4f} ± {np.std(precisions):.4f}\")\n",
        "    print(f\"Recall       : {np.mean(recalls):.4f} ± {np.std(recalls):.4f}\")\n",
        "    print(f\"Correlation  : {np.mean(correlations):.4f} ± {np.std(correlations):.4f}\")\n",
        "\n",
        "# -------------------------------\n",
        "# Main\n",
        "# -------------------------------\n",
        "if __name__ == \"__main__\":\n",
        "    # build your model exactly as before:\n",
        "    model = smp.Unet(\n",
        "        encoder_name   = \"densenet121\",\n",
        "        encoder_weights= \"imagenet\",\n",
        "        in_channels    = 1,\n",
        "        classes        = 4,\n",
        "        activation     = None\n",
        "    )\n",
        "    # load weights\n",
        "    model.load_state_dict(torch.load(\"F:\\Rohit\\LRP\\densenet_dice_ce.pth\", map_location=device))\n",
        "    model.to(device)\n",
        "\n",
        "    # your val_loader must yield (image_tensor, one_hot_mask_tensor)\n",
        "    # e.g. masks shaped (B, 4, H, W)\n",
        "    evaluate_model(model, val_loader, device)\n"
      ]
    },
    {
      "cell_type": "code",
      "execution_count": null,
      "metadata": {
        "colab": {
          "base_uri": "https://localhost:8080/"
        },
        "id": "eS3vbdEfzit7",
        "outputId": "c11c723c-9ec2-47ac-ff48-40d0b05d3462"
      },
      "outputs": [
        {
          "name": "stdout",
          "output_type": "stream",
          "text": [
            "Using device: cuda\n",
            "---- Metrics for Lobe_1 ----\n",
            "Dice Coef    : 0.9353 ± 0.0371\n",
            "Jaccard IoU  : 0.8806 ± 0.0612\n",
            "Hausdorff    : 3.4394 ± 1.5999\n",
            "Mean Abs Err : 0.0106 ± 0.0055\n",
            "MAD (Bound)  : 2.1521 ± 1.0495\n",
            "Accuracy     : 0.9894 ± 0.0055\n",
            "Precision    : 0.9359 ± 0.0597\n",
            "Recall       : 0.9394 ± 0.0525\n",
            "Correlation  : 0.9308 ± 0.0366\n",
            "-----------------------------\n",
            "\n",
            "---- Metrics for Lobe_2 ----\n",
            "Dice Coef    : 0.8761 ± 0.0451\n",
            "Jaccard IoU  : 0.7822 ± 0.0672\n",
            "Hausdorff    : 4.5545 ± 1.9756\n",
            "Mean Abs Err : 0.0248 ± 0.0111\n",
            "MAD (Bound)  : 2.3975 ± 0.9742\n",
            "Accuracy     : 0.9752 ± 0.0111\n",
            "Precision    : 0.8775 ± 0.0685\n",
            "Recall       : 0.8797 ± 0.0588\n",
            "Correlation  : 0.8637 ± 0.0485\n",
            "-----------------------------\n",
            "\n",
            "---- Metrics for Lobe_3 ----\n",
            "Dice Coef    : 0.9019 ± 0.0797\n",
            "Jaccard IoU  : 0.8294 ± 0.1108\n",
            "Hausdorff    : 4.3273 ± 3.9175\n",
            "Mean Abs Err : 0.0089 ± 0.0058\n",
            "MAD (Bound)  : 2.5739 ± 1.9274\n",
            "Accuracy     : 0.9911 ± 0.0058\n",
            "Precision    : 0.8847 ± 0.1039\n",
            "Recall       : 0.9332 ± 0.0874\n",
            "Correlation  : 0.9010 ± 0.0743\n",
            "-----------------------------\n",
            "\n"
          ]
        }
      ],
      "source": [
        "import numpy as np\n",
        "import cv2\n",
        "from sklearn.metrics import accuracy_score, precision_score, recall_score, mean_absolute_error\n",
        "import torch\n",
        "import torch.nn.functional as F  # for one‐hot\n",
        "import segmentation_models_pytorch as smp\n",
        "\n",
        "# -------------------------------\n",
        "# Device\n",
        "# -------------------------------\n",
        "device = torch.device(\"cuda\" if torch.cuda.is_available() else \"cpu\")\n",
        "print(f\"Using device: {device}\")\n",
        "\n",
        "# -------------------------------\n",
        "# Single-Channel Metric Functions\n",
        "# -------------------------------\n",
        "\n",
        "def dice_coefficient(y_true, y_pred, smooth=1):\n",
        "    y_true = y_true.astype(np.float32)\n",
        "    y_pred = y_pred.astype(np.float32)\n",
        "    intersection = np.sum(y_true * y_pred)\n",
        "    return (2. * intersection + smooth) / (np.sum(y_true) + np.sum(y_pred) + smooth)\n",
        "\n",
        "def jaccard_index(y_true, y_pred, smooth=1):\n",
        "    y_true = y_true.astype(np.float32)\n",
        "    y_pred = y_pred.astype(np.float32)\n",
        "    intersection = np.sum(y_true * y_pred)\n",
        "    union = np.sum(y_true) + np.sum(y_pred) - intersection\n",
        "    return (intersection + smooth) / (union + smooth)\n",
        "\n",
        "def hausdorff_distance_single(y_true, y_pred):\n",
        "    coords_true = np.column_stack(np.where(y_true))\n",
        "    coords_pred = np.column_stack(np.where(y_pred))\n",
        "    if coords_true.size == 0 or coords_pred.size == 0:\n",
        "        return np.nan\n",
        "    dists_true_to_pred = [np.min(np.linalg.norm(coords_pred - pt, axis=1)) for pt in coords_true]\n",
        "    dists_pred_to_true = [np.min(np.linalg.norm(coords_true - pt, axis=1)) for pt in coords_pred]\n",
        "    hd = max(np.max(dists_true_to_pred), np.max(dists_pred_to_true))/2\n",
        "    return hd\n",
        "\n",
        "def mean_absolute_distance_single(y_true, y_pred):\n",
        "    mask_true = (y_true * 255).astype(np.uint8)\n",
        "    mask_pred = (y_pred * 255).astype(np.uint8)\n",
        "    cnts_true, _ = cv2.findContours(mask_true, cv2.RETR_EXTERNAL, cv2.CHAIN_APPROX_NONE)\n",
        "    cnts_pred, _ = cv2.findContours(mask_pred, cv2.RETR_EXTERNAL, cv2.CHAIN_APPROX_NONE)\n",
        "    if not cnts_true or not cnts_pred:\n",
        "        return np.nan\n",
        "    pts_true = np.vstack(cnts_true)[:, 0, :]\n",
        "    pts_pred = np.vstack(cnts_pred)[:, 0, :]\n",
        "    dists = [np.min(np.linalg.norm(pts_pred - pt, axis=1)) for pt in pts_true]\n",
        "    return np.mean(dists)\n",
        "\n",
        "def compute_classification_metrics(y_true, y_pred):\n",
        "    y_true_flat = y_true.flatten()\n",
        "    y_pred_flat = y_pred.flatten()\n",
        "    acc  = accuracy_score(y_true_flat, y_pred_flat)\n",
        "    prec = precision_score(y_true_flat, y_pred_flat, zero_division=0)\n",
        "    rec  = recall_score(y_true_flat, y_pred_flat, zero_division=0)\n",
        "    return acc, prec, rec\n",
        "\n",
        "def compute_correlation(y_true, y_pred):\n",
        "    y_true_flat = y_true.flatten()\n",
        "    y_pred_flat = y_pred.flatten()\n",
        "    return np.corrcoef(y_true_flat, y_pred_flat)[0, 1]\n",
        "\n",
        "# -------------------------------\n",
        "# Evaluation Function for Each Segment\n",
        "# -------------------------------\n",
        "\n",
        "def evaluate_model_by_segment(model, dataloader, device):\n",
        "    \"\"\"\n",
        "    Multiclass evaluation per channel on GPU:\n",
        "      - softmax → argmax to get per-pixel class,\n",
        "      - one-hot–encode into channels,\n",
        "      - compute metrics for channels 1..3 (lobes).\n",
        "    \"\"\"\n",
        "    num_segments = 4  # background + 3 lobes\n",
        "\n",
        "    # storage per channel\n",
        "    dice_scores      = [[] for _ in range(num_segments)]\n",
        "    jaccard_scores   = [[] for _ in range(num_segments)]\n",
        "    hausdorff_scores = [[] for _ in range(num_segments)]\n",
        "    mae_scores       = [[] for _ in range(num_segments)]\n",
        "    mad_scores       = [[] for _ in range(num_segments)]\n",
        "    accuracies       = [[] for _ in range(num_segments)]\n",
        "    precisions       = [[] for _ in range(num_segments)]\n",
        "    recalls          = [[] for _ in range(num_segments)]\n",
        "    correlations     = [[] for _ in range(num_segments)]\n",
        "\n",
        "    model.to(device)\n",
        "    model.eval()\n",
        "    with torch.no_grad():\n",
        "        for imgs, masks in dataloader:\n",
        "            # Move inputs to GPU\n",
        "            imgs  = imgs.to(device)      # (B, C_in, H, W)\n",
        "            masks = masks.to(device)     # one-hot (B, 4, H, W)\n",
        "\n",
        "            # Forward pass\n",
        "            logits = model(imgs)\n",
        "            if isinstance(logits, tuple):\n",
        "                logits = logits[0]\n",
        "\n",
        "            # softmax + argmax on GPU\n",
        "            probs    = torch.softmax(logits, dim=1)\n",
        "            pred_idx = torch.argmax(probs, dim=1)  # (B, H, W)\n",
        "\n",
        "            # one-hot encode predictions: stays on GPU\n",
        "            preds_onehot = F.one_hot(pred_idx, num_classes=num_segments) \\\n",
        "                              .permute(0, 3, 1, 2).float()\n",
        "\n",
        "            # Move to CPU for NumPy metrics\n",
        "            preds_np = preds_onehot.cpu().numpy().transpose(0, 2, 3, 1)  # (B, H, W, 4)\n",
        "            masks_np = masks.cpu().numpy().transpose(0, 2, 3, 1)\n",
        "\n",
        "            # Compute per-segment metrics\n",
        "            for p_mask, t_mask in zip(preds_np, masks_np):\n",
        "                for seg in range(1, num_segments):\n",
        "                    p_ch = p_mask[..., seg]\n",
        "                    t_ch = t_mask[..., seg].astype(np.float32)\n",
        "\n",
        "                    dice_scores[seg].append(dice_coefficient(t_ch, p_ch))\n",
        "                    jaccard_scores[seg].append(jaccard_index(t_ch, p_ch))\n",
        "                    hausdorff_scores[seg].append(hausdorff_distance_single(t_ch, p_ch))\n",
        "                    mae_scores[seg].append(mean_absolute_error(t_ch.flatten(), p_ch.flatten()))\n",
        "                    mad_scores[seg].append(mean_absolute_distance_single(t_ch, p_ch))\n",
        "\n",
        "                    acc, prec, rec = compute_classification_metrics(t_ch, p_ch)\n",
        "                    accuracies[seg].append(acc)\n",
        "                    precisions[seg].append(prec)\n",
        "                    recalls[seg].append(rec)\n",
        "                    correlations[seg].append(compute_correlation(t_ch, p_ch))\n",
        "\n",
        "    # Print results per lobe\n",
        "    for seg in range(1, num_segments):\n",
        "        print(f\"---- Metrics for Lobe_{seg} ----\")\n",
        "        print(f\"Dice Coef    : {np.nanmean(dice_scores[seg]):.4f} ± {np.nanstd(dice_scores[seg]):.4f}\")\n",
        "        print(f\"Jaccard IoU  : {np.nanmean(jaccard_scores[seg]):.4f} ± {np.nanstd(jaccard_scores[seg]):.4f}\")\n",
        "        print(f\"Hausdorff    : {np.nanmean(hausdorff_scores[seg]):.4f} ± {np.nanstd(hausdorff_scores[seg]):.4f}\")\n",
        "        print(f\"Mean Abs Err : {np.mean(mae_scores[seg]):.4f} ± {np.std(mae_scores[seg]):.4f}\")\n",
        "        print(f\"MAD (Bound)  : {np.mean(mad_scores[seg]):.4f} ± {np.std(mad_scores[seg]):.4f}\")\n",
        "        print(f\"Accuracy     : {np.mean(accuracies[seg]):.4f} ± {np.std(accuracies[seg]):.4f}\")\n",
        "        print(f\"Precision    : {np.mean(precisions[seg]):.4f} ± {np.std(precisions[seg]):.4f}\")\n",
        "        print(f\"Recall       : {np.mean(recalls[seg]):.4f} ± {np.std(recalls[seg]):.4f}\")\n",
        "        print(f\"Correlation  : {np.mean(correlations[seg]):.4f} ± {np.std(correlations[seg]):.4f}\")\n",
        "        print(\"-----------------------------\\n\")\n",
        "\n",
        "# -------------------------------\n",
        "# Example usage:\n",
        "# -------------------------------\n",
        "if __name__ == \"__main__\":\n",
        "    # Build & load your model\n",
        "    model = smp.Unet(\n",
        "        encoder_name    = \"densenet121\",\n",
        "        encoder_weights = \"imagenet\",\n",
        "        in_channels     = 1,\n",
        "        classes         = 4,\n",
        "        activation      = None\n",
        "    )\n",
        "    model.load_state_dict(torch.load(\"F:\\Rohit\\LRP\\densenet_dice_ce.pth\", map_location=device))\n",
        "\n",
        "    # val_loader should yield (image_tensor, one_hot_mask_tensor)\n",
        "    evaluate_model_by_segment(model, val_loader, device)\n"
      ]
    },
    {
      "cell_type": "code",
      "execution_count": null,
      "metadata": {
        "id": "zKzOcf-Ozivk"
      },
      "outputs": [],
      "source": []
    }
  ],
  "metadata": {
    "accelerator": "GPU",
    "colab": {
      "gpuType": "T4",
      "provenance": []
    },
    "kernelspec": {
      "display_name": "shantichandra_3.11",
      "language": "python",
      "name": "python3"
    },
    "language_info": {
      "codemirror_mode": {
        "name": "ipython",
        "version": 3
      },
      "file_extension": ".py",
      "mimetype": "text/x-python",
      "name": "python",
      "nbconvert_exporter": "python",
      "pygments_lexer": "ipython3",
      "version": "3.11.11"
    }
  },
  "nbformat": 4,
  "nbformat_minor": 0
}
